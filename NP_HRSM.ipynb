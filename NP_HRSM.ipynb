{
 "cells": [
  {
   "cell_type": "code",
   "execution_count": 189,
   "id": "equipped-alias",
   "metadata": {},
   "outputs": [
    {
     "name": "stdout",
     "output_type": "stream",
     "text": [
      "The autoreload extension is already loaded. To reload it, use:\n",
      "  %reload_ext autoreload\n"
     ]
    }
   ],
   "source": [
    "import numpy as np\n",
    "import pandas as pd\n",
    "import seaborn as sns\n",
    "from matplotlib import cm\n",
    "import torch\n",
    "import torch.nn as nn\n",
    "import torch.nn.functional as F\n",
    "from sklearn.gaussian_process.kernels import RBF\n",
    "from sklearn.model_selection import train_test_split\n",
    "from torch.utils.data import Dataset, DataLoader\n",
    "from sklearn.preprocessing import StandardScaler, MinMaxScaler\n",
    "from sklearn.gaussian_process import GaussianProcessRegressor\n",
    "import matplotlib.pyplot as plt\n",
    "from sklearn.metrics import r2_score\n",
    "import seaborn as sns\n",
    "import haversine\n",
    "plt.rcParams['figure.figsize'] = (6,5)\n",
    "\n",
    "import warnings\n",
    "warnings.filterwarnings(\"ignore\")\n",
    "%load_ext autoreload\n",
    "%autoreload 2"
   ]
  },
  {
   "cell_type": "code",
   "execution_count": 190,
   "id": "official-growing",
   "metadata": {
    "scrolled": true
   },
   "outputs": [],
   "source": [
    "data = pd.read_csv(\"../Dataset/scaledN.csv\")"
   ]
  },
  {
   "cell_type": "code",
   "execution_count": 191,
   "id": "headed-twist",
   "metadata": {
    "scrolled": false
   },
   "outputs": [
    {
     "data": {
      "text/html": [
       "<div>\n",
       "<style scoped>\n",
       "    .dataframe tbody tr th:only-of-type {\n",
       "        vertical-align: middle;\n",
       "    }\n",
       "\n",
       "    .dataframe tbody tr th {\n",
       "        vertical-align: top;\n",
       "    }\n",
       "\n",
       "    .dataframe thead th {\n",
       "        text-align: right;\n",
       "    }\n",
       "</style>\n",
       "<table border=\"1\" class=\"dataframe\">\n",
       "  <thead>\n",
       "    <tr style=\"text-align: right;\">\n",
       "      <th></th>\n",
       "      <th>Latitude</th>\n",
       "      <th>Longitude</th>\n",
       "      <th>Scaled N</th>\n",
       "    </tr>\n",
       "  </thead>\n",
       "  <tbody>\n",
       "    <tr>\n",
       "      <th>0</th>\n",
       "      <td>17.895</td>\n",
       "      <td>73.401</td>\n",
       "      <td>0.63157</td>\n",
       "    </tr>\n",
       "    <tr>\n",
       "      <th>1</th>\n",
       "      <td>17.895</td>\n",
       "      <td>73.401</td>\n",
       "      <td>0.65262</td>\n",
       "    </tr>\n",
       "    <tr>\n",
       "      <th>2</th>\n",
       "      <td>17.895</td>\n",
       "      <td>73.402</td>\n",
       "      <td>0.39998</td>\n",
       "    </tr>\n",
       "    <tr>\n",
       "      <th>3</th>\n",
       "      <td>17.895</td>\n",
       "      <td>73.404</td>\n",
       "      <td>0.82105</td>\n",
       "    </tr>\n",
       "    <tr>\n",
       "      <th>4</th>\n",
       "      <td>17.895</td>\n",
       "      <td>73.404</td>\n",
       "      <td>0.88421</td>\n",
       "    </tr>\n",
       "  </tbody>\n",
       "</table>\n",
       "</div>"
      ],
      "text/plain": [
       "   Latitude  Longitude  Scaled N\n",
       "0    17.895     73.401   0.63157\n",
       "1    17.895     73.401   0.65262\n",
       "2    17.895     73.402   0.39998\n",
       "3    17.895     73.404   0.82105\n",
       "4    17.895     73.404   0.88421"
      ]
     },
     "execution_count": 191,
     "metadata": {},
     "output_type": "execute_result"
    }
   ],
   "source": [
    "data.head()"
   ]
  },
  {
   "cell_type": "code",
   "execution_count": 192,
   "id": "final-biodiversity",
   "metadata": {
    "scrolled": true
   },
   "outputs": [
    {
     "data": {
      "text/html": [
       "<div>\n",
       "<style scoped>\n",
       "    .dataframe tbody tr th:only-of-type {\n",
       "        vertical-align: middle;\n",
       "    }\n",
       "\n",
       "    .dataframe tbody tr th {\n",
       "        vertical-align: top;\n",
       "    }\n",
       "\n",
       "    .dataframe thead th {\n",
       "        text-align: right;\n",
       "    }\n",
       "</style>\n",
       "<table border=\"1\" class=\"dataframe\">\n",
       "  <thead>\n",
       "    <tr style=\"text-align: right;\">\n",
       "      <th></th>\n",
       "      <th>Latitude</th>\n",
       "      <th>Longitude</th>\n",
       "      <th>Scaled N</th>\n",
       "    </tr>\n",
       "  </thead>\n",
       "  <tbody>\n",
       "    <tr>\n",
       "      <th>Latitude</th>\n",
       "      <td>1.000000</td>\n",
       "      <td>0.189321</td>\n",
       "      <td>0.283999</td>\n",
       "    </tr>\n",
       "    <tr>\n",
       "      <th>Longitude</th>\n",
       "      <td>0.189321</td>\n",
       "      <td>1.000000</td>\n",
       "      <td>0.080928</td>\n",
       "    </tr>\n",
       "    <tr>\n",
       "      <th>Scaled N</th>\n",
       "      <td>0.283999</td>\n",
       "      <td>0.080928</td>\n",
       "      <td>1.000000</td>\n",
       "    </tr>\n",
       "  </tbody>\n",
       "</table>\n",
       "</div>"
      ],
      "text/plain": [
       "           Latitude  Longitude  Scaled N\n",
       "Latitude   1.000000   0.189321  0.283999\n",
       "Longitude  0.189321   1.000000  0.080928\n",
       "Scaled N   0.283999   0.080928  1.000000"
      ]
     },
     "execution_count": 192,
     "metadata": {},
     "output_type": "execute_result"
    }
   ],
   "source": [
    "data.corr()"
   ]
  },
  {
   "cell_type": "code",
   "execution_count": 193,
   "id": "arbitrary-tender",
   "metadata": {},
   "outputs": [
    {
     "data": {
      "text/html": [
       "<div>\n",
       "<style scoped>\n",
       "    .dataframe tbody tr th:only-of-type {\n",
       "        vertical-align: middle;\n",
       "    }\n",
       "\n",
       "    .dataframe tbody tr th {\n",
       "        vertical-align: top;\n",
       "    }\n",
       "\n",
       "    .dataframe thead th {\n",
       "        text-align: right;\n",
       "    }\n",
       "</style>\n",
       "<table border=\"1\" class=\"dataframe\">\n",
       "  <thead>\n",
       "    <tr style=\"text-align: right;\">\n",
       "      <th></th>\n",
       "      <th>lat</th>\n",
       "      <th>lon</th>\n",
       "      <th>N</th>\n",
       "    </tr>\n",
       "  </thead>\n",
       "  <tbody>\n",
       "    <tr>\n",
       "      <th>0</th>\n",
       "      <td>17.895</td>\n",
       "      <td>73.401</td>\n",
       "      <td>0.63157</td>\n",
       "    </tr>\n",
       "    <tr>\n",
       "      <th>1</th>\n",
       "      <td>17.895</td>\n",
       "      <td>73.401</td>\n",
       "      <td>0.65262</td>\n",
       "    </tr>\n",
       "    <tr>\n",
       "      <th>2</th>\n",
       "      <td>17.895</td>\n",
       "      <td>73.402</td>\n",
       "      <td>0.39998</td>\n",
       "    </tr>\n",
       "    <tr>\n",
       "      <th>3</th>\n",
       "      <td>17.895</td>\n",
       "      <td>73.404</td>\n",
       "      <td>0.82105</td>\n",
       "    </tr>\n",
       "    <tr>\n",
       "      <th>4</th>\n",
       "      <td>17.895</td>\n",
       "      <td>73.404</td>\n",
       "      <td>0.88421</td>\n",
       "    </tr>\n",
       "  </tbody>\n",
       "</table>\n",
       "</div>"
      ],
      "text/plain": [
       "      lat     lon        N\n",
       "0  17.895  73.401  0.63157\n",
       "1  17.895  73.401  0.65262\n",
       "2  17.895  73.402  0.39998\n",
       "3  17.895  73.404  0.82105\n",
       "4  17.895  73.404  0.88421"
      ]
     },
     "execution_count": 193,
     "metadata": {},
     "output_type": "execute_result"
    }
   ],
   "source": [
    "data  = data.rename(columns ={'Longitude':'lon', 'Latitude':'lat', 'Scaled N':'N'})\n",
    "data.head()"
   ]
  },
  {
   "cell_type": "markdown",
   "id": "perceived-spain",
   "metadata": {},
   "source": [
    "## Data PreProcessing"
   ]
  },
  {
   "cell_type": "code",
   "execution_count": 194,
   "id": "e43e9aad",
   "metadata": {},
   "outputs": [
    {
     "data": {
      "text/plain": [
       "(25806, 3)"
      ]
     },
     "execution_count": 194,
     "metadata": {},
     "output_type": "execute_result"
    }
   ],
   "source": [
    "data.shape"
   ]
  },
  {
   "cell_type": "code",
   "execution_count": 195,
   "id": "appropriate-safety",
   "metadata": {},
   "outputs": [
    {
     "data": {
      "text/html": [
       "<div>\n",
       "<style scoped>\n",
       "    .dataframe tbody tr th:only-of-type {\n",
       "        vertical-align: middle;\n",
       "    }\n",
       "\n",
       "    .dataframe tbody tr th {\n",
       "        vertical-align: top;\n",
       "    }\n",
       "\n",
       "    .dataframe thead th {\n",
       "        text-align: right;\n",
       "    }\n",
       "</style>\n",
       "<table border=\"1\" class=\"dataframe\">\n",
       "  <thead>\n",
       "    <tr style=\"text-align: right;\">\n",
       "      <th></th>\n",
       "      <th>lat</th>\n",
       "      <th>lon</th>\n",
       "      <th>N</th>\n",
       "    </tr>\n",
       "  </thead>\n",
       "  <tbody>\n",
       "    <tr>\n",
       "      <th>0</th>\n",
       "      <td>17.895</td>\n",
       "      <td>73.401</td>\n",
       "      <td>0.63157</td>\n",
       "    </tr>\n",
       "    <tr>\n",
       "      <th>1</th>\n",
       "      <td>17.895</td>\n",
       "      <td>73.402</td>\n",
       "      <td>0.39998</td>\n",
       "    </tr>\n",
       "    <tr>\n",
       "      <th>2</th>\n",
       "      <td>17.895</td>\n",
       "      <td>73.404</td>\n",
       "      <td>0.82105</td>\n",
       "    </tr>\n",
       "    <tr>\n",
       "      <th>3</th>\n",
       "      <td>17.895</td>\n",
       "      <td>73.405</td>\n",
       "      <td>0.58946</td>\n",
       "    </tr>\n",
       "    <tr>\n",
       "      <th>4</th>\n",
       "      <td>17.895</td>\n",
       "      <td>73.406</td>\n",
       "      <td>0.88421</td>\n",
       "    </tr>\n",
       "  </tbody>\n",
       "</table>\n",
       "</div>"
      ],
      "text/plain": [
       "      lat     lon        N\n",
       "0  17.895  73.401  0.63157\n",
       "1  17.895  73.402  0.39998\n",
       "2  17.895  73.404  0.82105\n",
       "3  17.895  73.405  0.58946\n",
       "4  17.895  73.406  0.88421"
      ]
     },
     "execution_count": 195,
     "metadata": {},
     "output_type": "execute_result"
    }
   ],
   "source": [
    "#drop duplicates rows\n",
    "data.drop_duplicates(subset=['lat', 'lon'], inplace = True)\n",
    "data = data.reset_index(drop = True)\n",
    "data.head()"
   ]
  },
  {
   "cell_type": "code",
   "execution_count": 196,
   "id": "24d15a76",
   "metadata": {},
   "outputs": [
    {
     "data": {
      "text/plain": [
       "(23194, 3)"
      ]
     },
     "execution_count": 196,
     "metadata": {},
     "output_type": "execute_result"
    }
   ],
   "source": [
    "data.shape"
   ]
  },
  {
   "cell_type": "code",
   "execution_count": 197,
   "id": "incomplete-captain",
   "metadata": {
    "scrolled": true
   },
   "outputs": [
    {
     "data": {
      "image/png": "[encoded data removed]",
      "text/plain": [
       "<Figure size 432x360 with 1 Axes>"
      ]
     },
     "metadata": {},
     "output_type": "display_data"
    }
   ],
   "source": [
    "data['N'].hist(bins = 100)\n",
    "plt.show()"
   ]
  },
  {
   "cell_type": "code",
   "execution_count": 198,
   "id": "5b07fa7d",
   "metadata": {},
   "outputs": [
    {
     "data": {
      "text/plain": [
       "<AxesSubplot:xlabel='N'>"
      ]
     },
     "execution_count": 198,
     "metadata": {},
     "output_type": "execute_result"
    },
    {
     "data": {
      "image/png": "[encoded data removed]",
      "text/plain": [
       "<Figure size 432x360 with 1 Axes>"
      ]
     },
     "metadata": {},
     "output_type": "display_data"
    }
   ],
   "source": [
    "sns.boxplot('N',data = data)"
   ]
  },
  {
   "cell_type": "code",
   "execution_count": 199,
   "id": "large-passage",
   "metadata": {},
   "outputs": [
    {
     "data": {
      "image/png": "[encoded data removed]",
      "text/plain": [
       "<Figure size 720x576 with 1 Axes>"
      ]
     },
     "metadata": {},
     "output_type": "display_data"
    }
   ],
   "source": [
    "plt.figure(figsize=(10, 8))\n",
    "sns.scatterplot(x ='lon', y ='lat',size ='N',sizes =(20, 100), data = data)\n",
    "plt.show()"
   ]
  },
  {
   "cell_type": "markdown",
   "id": "ea56cf77",
   "metadata": {},
   "source": [
    "## Exploratory Data Analysis"
   ]
  },
  {
   "cell_type": "code",
   "execution_count": 200,
   "id": "fe66aefc",
   "metadata": {},
   "outputs": [],
   "source": [
    "from haversine import haversine, Unit\n",
    "## Data points conversion\n",
    "def Haversine(df):\n",
    "  res = []\n",
    "  ref_points = (df['lat'][0], df['lon'][0])\n",
    "  for i in range(df.shape[0]):\n",
    "    latlon = (df['lat'][i], df['lon'][i])\n",
    "    dist = haversine(ref_points, latlon)\n",
    "    res.append(dist*1000)\n",
    "  return res\n"
   ]
  },
  {
   "cell_type": "code",
   "execution_count": null,
   "id": "1f0022cf",
   "metadata": {},
   "outputs": [],
   "source": []
  },
  {
   "cell_type": "code",
   "execution_count": null,
   "id": "896a3e81",
   "metadata": {},
   "outputs": [],
   "source": []
  },
  {
   "cell_type": "code",
   "execution_count": 201,
   "id": "6f0aa445",
   "metadata": {},
   "outputs": [],
   "source": [
    "data_exp = data.copy()\n",
    "res = Haversine(data_exp)\n",
    "\n",
    "data_exp['haversine'] = res"
   ]
  },
  {
   "cell_type": "code",
   "execution_count": 202,
   "id": "e3518fef",
   "metadata": {},
   "outputs": [
    {
     "data": {
      "text/html": [
       "<div>\n",
       "<style scoped>\n",
       "    .dataframe tbody tr th:only-of-type {\n",
       "        vertical-align: middle;\n",
       "    }\n",
       "\n",
       "    .dataframe tbody tr th {\n",
       "        vertical-align: top;\n",
       "    }\n",
       "\n",
       "    .dataframe thead th {\n",
       "        text-align: right;\n",
       "    }\n",
       "</style>\n",
       "<table border=\"1\" class=\"dataframe\">\n",
       "  <thead>\n",
       "    <tr style=\"text-align: right;\">\n",
       "      <th></th>\n",
       "      <th>lat</th>\n",
       "      <th>lon</th>\n",
       "      <th>N</th>\n",
       "      <th>haversine</th>\n",
       "    </tr>\n",
       "  </thead>\n",
       "  <tbody>\n",
       "    <tr>\n",
       "      <th>0</th>\n",
       "      <td>17.895</td>\n",
       "      <td>73.401</td>\n",
       "      <td>0.63157</td>\n",
       "      <td>0.000000</td>\n",
       "    </tr>\n",
       "    <tr>\n",
       "      <th>1</th>\n",
       "      <td>17.895</td>\n",
       "      <td>73.402</td>\n",
       "      <td>0.39998</td>\n",
       "      <td>105.815598</td>\n",
       "    </tr>\n",
       "    <tr>\n",
       "      <th>2</th>\n",
       "      <td>17.895</td>\n",
       "      <td>73.404</td>\n",
       "      <td>0.82105</td>\n",
       "      <td>317.446794</td>\n",
       "    </tr>\n",
       "    <tr>\n",
       "      <th>3</th>\n",
       "      <td>17.895</td>\n",
       "      <td>73.405</td>\n",
       "      <td>0.58946</td>\n",
       "      <td>423.262393</td>\n",
       "    </tr>\n",
       "    <tr>\n",
       "      <th>4</th>\n",
       "      <td>17.895</td>\n",
       "      <td>73.406</td>\n",
       "      <td>0.88421</td>\n",
       "      <td>529.077991</td>\n",
       "    </tr>\n",
       "  </tbody>\n",
       "</table>\n",
       "</div>"
      ],
      "text/plain": [
       "      lat     lon        N   haversine\n",
       "0  17.895  73.401  0.63157    0.000000\n",
       "1  17.895  73.402  0.39998  105.815598\n",
       "2  17.895  73.404  0.82105  317.446794\n",
       "3  17.895  73.405  0.58946  423.262393\n",
       "4  17.895  73.406  0.88421  529.077991"
      ]
     },
     "execution_count": 202,
     "metadata": {},
     "output_type": "execute_result"
    }
   ],
   "source": [
    "data_exp.head()"
   ]
  },
  {
   "cell_type": "code",
   "execution_count": 203,
   "id": "12c097fd",
   "metadata": {},
   "outputs": [
    {
     "data": {
      "image/png": "[encoded data removed]",
      "text/plain": [
       "<Figure size 1296x720 with 2 Axes>"
      ]
     },
     "metadata": {},
     "output_type": "display_data"
    }
   ],
   "source": [
    "# check for autocorrelation\n",
    "from statsmodels.graphics.tsaplots import plot_acf\n",
    "green = sns.color_palette(\"deep\", 8)[2]\n",
    "blue = sns.color_palette(\"deep\", 8)[0]\n",
    "sns.set()\n",
    "\n",
    "fig = plt.figure(figsize=(18, 10))\n",
    "ax = fig.add_subplot(121)\n",
    "plt.scatter(x = data_exp['haversine'], y = data_exp['N'], color='green')\n",
    "plt.title(\"Scatter plot of N\")\n",
    "plt.xlabel(\"haversine distance wrt. origin\")\n",
    "plt.ylabel(\"N \")\n",
    "\n",
    "ax2 = fig.add_subplot(122)\n",
    "plot_acf(data_exp[\"N\"], ax=ax2,color=blue)\n",
    "plt.title(\"Autocorrelation Plot for Nitrogen (N)\", fontsize=10)\n",
    "plt.ylabel(\"Correlation\",fontsize=15)\n",
    "plt.xlabel(\"Lag\",fontsize=15)\n",
    "plt.show()"
   ]
  },
  {
   "cell_type": "code",
   "execution_count": 204,
   "id": "05fd6bcb",
   "metadata": {
    "scrolled": false
   },
   "outputs": [
    {
     "data": {
      "text/plain": [
       "<AxesSubplot:xlabel='N', ylabel='Count'>"
      ]
     },
     "execution_count": 204,
     "metadata": {},
     "output_type": "execute_result"
    },
    {
     "data": {
      "image/png": "[encoded data removed]",
      "text/plain": [
       "<Figure size 432x360 with 1 Axes>"
      ]
     },
     "metadata": {},
     "output_type": "display_data"
    }
   ],
   "source": [
    "# # check for Normality assumptions\n",
    "sns.histplot(x = 'N', data = data_exp, kde =True)"
   ]
  },
  {
   "cell_type": "markdown",
   "id": "77b1ea78",
   "metadata": {},
   "source": [
    " data is not normally distributed."
   ]
  },
  {
   "cell_type": "code",
   "execution_count": 205,
   "id": "5c69503e",
   "metadata": {},
   "outputs": [
    {
     "data": {
      "text/plain": [
       "1.5995827915134244"
      ]
     },
     "execution_count": 205,
     "metadata": {},
     "output_type": "execute_result"
    }
   ],
   "source": [
    "# Skewness check\n",
    "data_exp['N'].skew()"
   ]
  },
  {
   "cell_type": "code",
   "execution_count": 206,
   "id": "628e2a5e",
   "metadata": {},
   "outputs": [],
   "source": [
    "# data_exp['N'].values.min()"
   ]
  },
  {
   "cell_type": "code",
   "execution_count": 207,
   "id": "0817b700",
   "metadata": {},
   "outputs": [],
   "source": [
    "# # lets try to bring it to its closest normal distribution by box-cox transformation\n",
    "from scipy.special import inv_boxcox\n",
    "from scipy.stats import boxcox\n",
    "data_exp.drop(data[data['N'] == 0.0].index, inplace=True)\n",
    "val, lambda_ =  boxcox(data_exp['N'].values)\n",
    "data_exp['N'] = val"
   ]
  },
  {
   "cell_type": "code",
   "execution_count": 208,
   "id": "87ba8693",
   "metadata": {},
   "outputs": [
    {
     "data": {
      "text/plain": [
       "0.09094078510039329"
      ]
     },
     "execution_count": 208,
     "metadata": {},
     "output_type": "execute_result"
    }
   ],
   "source": [
    "# let's verify whether skewness has decreased or not\n",
    "data_exp['N'].skew()"
   ]
  },
  {
   "cell_type": "markdown",
   "id": "744672e9",
   "metadata": {},
   "source": [
    "There has been significant decrease in skewness of the data from `1.5` to `0.09`"
   ]
  },
  {
   "cell_type": "code",
   "execution_count": 209,
   "id": "ff631d30",
   "metadata": {},
   "outputs": [
    {
     "data": {
      "text/plain": [
       "[]"
      ]
     },
     "execution_count": 209,
     "metadata": {},
     "output_type": "execute_result"
    },
    {
     "data": {
      "image/png": "[encoded data removed]",
      "text/plain": [
       "<Figure size 432x360 with 1 Axes>"
      ]
     },
     "metadata": {},
     "output_type": "display_data"
    }
   ],
   "source": [
    "# # verify it with KDE plot\n",
    "sns.histplot(x = 'N', data = data_exp, kde =True)\n",
    "plt.plot()"
   ]
  },
  {
   "cell_type": "code",
   "execution_count": null,
   "id": "8ae9cb3c",
   "metadata": {},
   "outputs": [],
   "source": []
  },
  {
   "cell_type": "code",
   "execution_count": 210,
   "id": "f5027294",
   "metadata": {},
   "outputs": [
    {
     "name": "stdout",
     "output_type": "stream",
     "text": [
      "test statistics: -8.356505374166467, p value: 2.8995092226522323e-13\n"
     ]
    }
   ],
   "source": [
    "# check for stationarity of the data\n",
    "#unit root test (Dickey-Fuller test)\n",
    "from statsmodels.tsa.stattools import adfuller\n",
    "\n",
    "adf_test  = adfuller(list(data_exp['N']))\n",
    "print(f\"test statistics: {adf_test[0]}, p value: {adf_test[1]}\")\n"
   ]
  },
  {
   "cell_type": "markdown",
   "id": "202f8558",
   "metadata": {},
   "source": [
    "Sinece the pval is less that 0.05, with 95% confidence interval, we reject the null hypothesis. Thus there is stationarity amomg the data"
   ]
  },
  {
   "cell_type": "markdown",
   "id": "dde6f2be",
   "metadata": {},
   "source": []
  },
  {
   "cell_type": "markdown",
   "id": "07b144a5",
   "metadata": {},
   "source": [
    "## Ordinary krigging"
   ]
  },
  {
   "cell_type": "code",
   "execution_count": 31,
   "id": "6385f2b1",
   "metadata": {},
   "outputs": [],
   "source": [
    "from pykrige.ok import OrdinaryKriging"
   ]
  },
  {
   "cell_type": "code",
   "execution_count": 45,
   "id": "8a0dff7a",
   "metadata": {},
   "outputs": [],
   "source": [
    "data1 = data_exp.copy()\n",
    "ix = np.random.choice(data1.shape[0],int(data1.shape[0]*0.3),replace = False)\n",
    "data_train = data1.iloc[[int(i) for i in range(data1.shape[0]) if i not in ix]].reset_index(drop = True)\n",
    "data_test = data1.iloc[ix].reset_index(drop = True)"
   ]
  },
  {
   "cell_type": "code",
   "execution_count": 46,
   "id": "588cdfaa",
   "metadata": {},
   "outputs": [
    {
     "data": {
      "text/plain": [
       "((16235, 4), (6957, 4))"
      ]
     },
     "execution_count": 46,
     "metadata": {},
     "output_type": "execute_result"
    }
   ],
   "source": [
    "data_train.shape, data_test.shape"
   ]
  },
  {
   "cell_type": "markdown",
   "id": "3d963679",
   "metadata": {},
   "source": [
    "## Neural Process"
   ]
  },
  {
   "cell_type": "code",
   "execution_count": 277,
   "id": "direct-essay",
   "metadata": {},
   "outputs": [
    {
     "data": {
      "text/html": [
       "<div>\n",
       "<style scoped>\n",
       "    .dataframe tbody tr th:only-of-type {\n",
       "        vertical-align: middle;\n",
       "    }\n",
       "\n",
       "    .dataframe tbody tr th {\n",
       "        vertical-align: top;\n",
       "    }\n",
       "\n",
       "    .dataframe thead th {\n",
       "        text-align: right;\n",
       "    }\n",
       "</style>\n",
       "<table border=\"1\" class=\"dataframe\">\n",
       "  <thead>\n",
       "    <tr style=\"text-align: right;\">\n",
       "      <th></th>\n",
       "      <th>lat</th>\n",
       "      <th>lon</th>\n",
       "      <th>N</th>\n",
       "      <th>haversine</th>\n",
       "    </tr>\n",
       "  </thead>\n",
       "  <tbody>\n",
       "    <tr>\n",
       "      <th>0</th>\n",
       "      <td>17.895</td>\n",
       "      <td>73.401</td>\n",
       "      <td>-0.429770</td>\n",
       "      <td>0.000000</td>\n",
       "    </tr>\n",
       "    <tr>\n",
       "      <th>1</th>\n",
       "      <td>17.895</td>\n",
       "      <td>73.402</td>\n",
       "      <td>-0.802977</td>\n",
       "      <td>105.815598</td>\n",
       "    </tr>\n",
       "    <tr>\n",
       "      <th>2</th>\n",
       "      <td>17.895</td>\n",
       "      <td>73.404</td>\n",
       "      <td>-0.191549</td>\n",
       "      <td>317.446794</td>\n",
       "    </tr>\n",
       "    <tr>\n",
       "      <th>3</th>\n",
       "      <td>17.895</td>\n",
       "      <td>73.405</td>\n",
       "      <td>-0.489419</td>\n",
       "      <td>423.262393</td>\n",
       "    </tr>\n",
       "    <tr>\n",
       "      <th>4</th>\n",
       "      <td>17.895</td>\n",
       "      <td>73.406</td>\n",
       "      <td>-0.120855</td>\n",
       "      <td>529.077991</td>\n",
       "    </tr>\n",
       "  </tbody>\n",
       "</table>\n",
       "</div>"
      ],
      "text/plain": [
       "      lat     lon         N   haversine\n",
       "0  17.895  73.401 -0.429770    0.000000\n",
       "1  17.895  73.402 -0.802977  105.815598\n",
       "2  17.895  73.404 -0.191549  317.446794\n",
       "3  17.895  73.405 -0.489419  423.262393\n",
       "4  17.895  73.406 -0.120855  529.077991"
      ]
     },
     "execution_count": 277,
     "metadata": {},
     "output_type": "execute_result"
    }
   ],
   "source": [
    "df = data_exp.copy()\n",
    "# res = Haversine(df)\n",
    "\n",
    "# df['haversine'] = res\n",
    "df.head()"
   ]
  },
  {
   "cell_type": "code",
   "execution_count": 278,
   "id": "adverse-crisis",
   "metadata": {},
   "outputs": [],
   "source": [
    "def calculate_kneighbors(df, k):\n",
    "  res = []\n",
    "  ref = df['haversine'].values\n",
    "  ref = np.sort(ref)\n",
    "  # print(ref[0:2])\n",
    "  for el in df['haversine'].values:\n",
    "    index = np.where(ref==el)\n",
    "    if k+index[0][0] > len(df)-1:\n",
    "      temp = ref[index[0][0]-k:]\n",
    "\n",
    "    if index[0][0]-k < 0:\n",
    "      temp = ref[index[0][0]:index[0][0]+k+1]\n",
    "\n",
    "    else:\n",
    "      # print(index[0][0]-k)\n",
    "      temp = ref[index[0][0]-k:index[0][0]+k+1]\n",
    "\n",
    "    temp = np.abs(temp-el)\n",
    "    temp = np.sort(temp)\n",
    "    res.append(temp[k]+el)\n",
    "\n",
    "  return res\n",
    "\n",
    "  "
   ]
  },
  {
   "cell_type": "code",
   "execution_count": 279,
   "id": "voluntary-planning",
   "metadata": {},
   "outputs": [],
   "source": [
    "one_nbr = calculate_kneighbors(df, 1)\n",
    "two_nbr = calculate_kneighbors(df, 2)\n",
    "three_nbr = calculate_kneighbors(df, 3)\n",
    "four_nbr = calculate_kneighbors(df, 4)\n",
    "five_nbr = calculate_kneighbors(df, 5)"
   ]
  },
  {
   "cell_type": "code",
   "execution_count": 280,
   "id": "numerous-yukon",
   "metadata": {},
   "outputs": [],
   "source": [
    "df['NBR_1'] = one_nbr\n",
    "df['NBR_2'] = two_nbr\n",
    "df['NBR_3'] = three_nbr\n",
    "df['NBR_4'] = four_nbr\n",
    "df['NBR_5'] = five_nbr"
   ]
  },
  {
   "cell_type": "code",
   "execution_count": 281,
   "id": "conscious-mortality",
   "metadata": {},
   "outputs": [
    {
     "data": {
      "text/html": [
       "<div>\n",
       "<style scoped>\n",
       "    .dataframe tbody tr th:only-of-type {\n",
       "        vertical-align: middle;\n",
       "    }\n",
       "\n",
       "    .dataframe tbody tr th {\n",
       "        vertical-align: top;\n",
       "    }\n",
       "\n",
       "    .dataframe thead th {\n",
       "        text-align: right;\n",
       "    }\n",
       "</style>\n",
       "<table border=\"1\" class=\"dataframe\">\n",
       "  <thead>\n",
       "    <tr style=\"text-align: right;\">\n",
       "      <th></th>\n",
       "      <th>lat</th>\n",
       "      <th>lon</th>\n",
       "      <th>N</th>\n",
       "      <th>haversine</th>\n",
       "      <th>NBR_1</th>\n",
       "      <th>NBR_2</th>\n",
       "      <th>NBR_3</th>\n",
       "      <th>NBR_4</th>\n",
       "      <th>NBR_5</th>\n",
       "    </tr>\n",
       "  </thead>\n",
       "  <tbody>\n",
       "    <tr>\n",
       "      <th>0</th>\n",
       "      <td>17.895</td>\n",
       "      <td>73.401</td>\n",
       "      <td>-0.429770</td>\n",
       "      <td>0.000000</td>\n",
       "      <td>105.815598</td>\n",
       "      <td>317.446794</td>\n",
       "      <td>423.262393</td>\n",
       "      <td>529.077991</td>\n",
       "      <td>634.893589</td>\n",
       "    </tr>\n",
       "    <tr>\n",
       "      <th>1</th>\n",
       "      <td>17.895</td>\n",
       "      <td>73.402</td>\n",
       "      <td>-0.802977</td>\n",
       "      <td>105.815598</td>\n",
       "      <td>211.631196</td>\n",
       "      <td>423.262393</td>\n",
       "      <td>529.077991</td>\n",
       "      <td>634.893589</td>\n",
       "      <td>846.524785</td>\n",
       "    </tr>\n",
       "    <tr>\n",
       "      <th>2</th>\n",
       "      <td>17.895</td>\n",
       "      <td>73.404</td>\n",
       "      <td>-0.191549</td>\n",
       "      <td>317.446794</td>\n",
       "      <td>423.262393</td>\n",
       "      <td>529.077991</td>\n",
       "      <td>634.893589</td>\n",
       "      <td>846.524785</td>\n",
       "      <td>3491.914734</td>\n",
       "    </tr>\n",
       "    <tr>\n",
       "      <th>3</th>\n",
       "      <td>17.895</td>\n",
       "      <td>73.405</td>\n",
       "      <td>-0.489419</td>\n",
       "      <td>423.262393</td>\n",
       "      <td>529.077991</td>\n",
       "      <td>529.077991</td>\n",
       "      <td>634.893589</td>\n",
       "      <td>3491.914734</td>\n",
       "      <td>8465.247787</td>\n",
       "    </tr>\n",
       "    <tr>\n",
       "      <th>4</th>\n",
       "      <td>17.895</td>\n",
       "      <td>73.406</td>\n",
       "      <td>-0.120855</td>\n",
       "      <td>529.077991</td>\n",
       "      <td>634.893589</td>\n",
       "      <td>634.893589</td>\n",
       "      <td>740.709187</td>\n",
       "      <td>846.524785</td>\n",
       "      <td>8571.063383</td>\n",
       "    </tr>\n",
       "  </tbody>\n",
       "</table>\n",
       "</div>"
      ],
      "text/plain": [
       "      lat     lon         N   haversine       NBR_1       NBR_2       NBR_3  \\\n",
       "0  17.895  73.401 -0.429770    0.000000  105.815598  317.446794  423.262393   \n",
       "1  17.895  73.402 -0.802977  105.815598  211.631196  423.262393  529.077991   \n",
       "2  17.895  73.404 -0.191549  317.446794  423.262393  529.077991  634.893589   \n",
       "3  17.895  73.405 -0.489419  423.262393  529.077991  529.077991  634.893589   \n",
       "4  17.895  73.406 -0.120855  529.077991  634.893589  634.893589  740.709187   \n",
       "\n",
       "         NBR_4        NBR_5  \n",
       "0   529.077991   634.893589  \n",
       "1   634.893589   846.524785  \n",
       "2   846.524785  3491.914734  \n",
       "3  3491.914734  8465.247787  \n",
       "4   846.524785  8571.063383  "
      ]
     },
     "execution_count": 281,
     "metadata": {},
     "output_type": "execute_result"
    }
   ],
   "source": [
    "df.head()"
   ]
  },
  {
   "cell_type": "code",
   "execution_count": 282,
   "id": "b5202e6f",
   "metadata": {},
   "outputs": [
    {
     "data": {
      "text/html": [
       "<div>\n",
       "<style scoped>\n",
       "    .dataframe tbody tr th:only-of-type {\n",
       "        vertical-align: middle;\n",
       "    }\n",
       "\n",
       "    .dataframe tbody tr th {\n",
       "        vertical-align: top;\n",
       "    }\n",
       "\n",
       "    .dataframe thead th {\n",
       "        text-align: right;\n",
       "    }\n",
       "</style>\n",
       "<table border=\"1\" class=\"dataframe\">\n",
       "  <thead>\n",
       "    <tr style=\"text-align: right;\">\n",
       "      <th></th>\n",
       "      <th>lat</th>\n",
       "      <th>lon</th>\n",
       "      <th>N</th>\n",
       "      <th>haversine</th>\n",
       "      <th>NBR_1</th>\n",
       "      <th>NBR_2</th>\n",
       "      <th>NBR_3</th>\n",
       "      <th>NBR_4</th>\n",
       "      <th>NBR_5</th>\n",
       "    </tr>\n",
       "  </thead>\n",
       "  <tbody>\n",
       "    <tr>\n",
       "      <th>lat</th>\n",
       "      <td>1.000000</td>\n",
       "      <td>0.213038</td>\n",
       "      <td>0.255719</td>\n",
       "      <td>0.782133</td>\n",
       "      <td>0.782140</td>\n",
       "      <td>0.782156</td>\n",
       "      <td>0.782162</td>\n",
       "      <td>0.782171</td>\n",
       "      <td>0.782183</td>\n",
       "    </tr>\n",
       "    <tr>\n",
       "      <th>lon</th>\n",
       "      <td>0.213038</td>\n",
       "      <td>1.000000</td>\n",
       "      <td>0.141445</td>\n",
       "      <td>0.752298</td>\n",
       "      <td>0.752302</td>\n",
       "      <td>0.752296</td>\n",
       "      <td>0.752300</td>\n",
       "      <td>0.752300</td>\n",
       "      <td>0.752297</td>\n",
       "    </tr>\n",
       "    <tr>\n",
       "      <th>N</th>\n",
       "      <td>0.255719</td>\n",
       "      <td>0.141445</td>\n",
       "      <td>1.000000</td>\n",
       "      <td>0.285297</td>\n",
       "      <td>0.285297</td>\n",
       "      <td>0.285312</td>\n",
       "      <td>0.285310</td>\n",
       "      <td>0.285312</td>\n",
       "      <td>0.285338</td>\n",
       "    </tr>\n",
       "    <tr>\n",
       "      <th>haversine</th>\n",
       "      <td>0.782133</td>\n",
       "      <td>0.752298</td>\n",
       "      <td>0.285297</td>\n",
       "      <td>1.000000</td>\n",
       "      <td>1.000000</td>\n",
       "      <td>0.999999</td>\n",
       "      <td>0.999998</td>\n",
       "      <td>0.999997</td>\n",
       "      <td>0.999996</td>\n",
       "    </tr>\n",
       "    <tr>\n",
       "      <th>NBR_1</th>\n",
       "      <td>0.782140</td>\n",
       "      <td>0.752302</td>\n",
       "      <td>0.285297</td>\n",
       "      <td>1.000000</td>\n",
       "      <td>1.000000</td>\n",
       "      <td>0.999999</td>\n",
       "      <td>0.999999</td>\n",
       "      <td>0.999998</td>\n",
       "      <td>0.999997</td>\n",
       "    </tr>\n",
       "    <tr>\n",
       "      <th>NBR_2</th>\n",
       "      <td>0.782156</td>\n",
       "      <td>0.752296</td>\n",
       "      <td>0.285312</td>\n",
       "      <td>0.999999</td>\n",
       "      <td>0.999999</td>\n",
       "      <td>1.000000</td>\n",
       "      <td>1.000000</td>\n",
       "      <td>0.999999</td>\n",
       "      <td>0.999998</td>\n",
       "    </tr>\n",
       "    <tr>\n",
       "      <th>NBR_3</th>\n",
       "      <td>0.782162</td>\n",
       "      <td>0.752300</td>\n",
       "      <td>0.285310</td>\n",
       "      <td>0.999998</td>\n",
       "      <td>0.999999</td>\n",
       "      <td>1.000000</td>\n",
       "      <td>1.000000</td>\n",
       "      <td>1.000000</td>\n",
       "      <td>0.999999</td>\n",
       "    </tr>\n",
       "    <tr>\n",
       "      <th>NBR_4</th>\n",
       "      <td>0.782171</td>\n",
       "      <td>0.752300</td>\n",
       "      <td>0.285312</td>\n",
       "      <td>0.999997</td>\n",
       "      <td>0.999998</td>\n",
       "      <td>0.999999</td>\n",
       "      <td>1.000000</td>\n",
       "      <td>1.000000</td>\n",
       "      <td>0.999999</td>\n",
       "    </tr>\n",
       "    <tr>\n",
       "      <th>NBR_5</th>\n",
       "      <td>0.782183</td>\n",
       "      <td>0.752297</td>\n",
       "      <td>0.285338</td>\n",
       "      <td>0.999996</td>\n",
       "      <td>0.999997</td>\n",
       "      <td>0.999998</td>\n",
       "      <td>0.999999</td>\n",
       "      <td>0.999999</td>\n",
       "      <td>1.000000</td>\n",
       "    </tr>\n",
       "  </tbody>\n",
       "</table>\n",
       "</div>"
      ],
      "text/plain": [
       "                lat       lon         N  haversine     NBR_1     NBR_2  \\\n",
       "lat        1.000000  0.213038  0.255719   0.782133  0.782140  0.782156   \n",
       "lon        0.213038  1.000000  0.141445   0.752298  0.752302  0.752296   \n",
       "N          0.255719  0.141445  1.000000   0.285297  0.285297  0.285312   \n",
       "haversine  0.782133  0.752298  0.285297   1.000000  1.000000  0.999999   \n",
       "NBR_1      0.782140  0.752302  0.285297   1.000000  1.000000  0.999999   \n",
       "NBR_2      0.782156  0.752296  0.285312   0.999999  0.999999  1.000000   \n",
       "NBR_3      0.782162  0.752300  0.285310   0.999998  0.999999  1.000000   \n",
       "NBR_4      0.782171  0.752300  0.285312   0.999997  0.999998  0.999999   \n",
       "NBR_5      0.782183  0.752297  0.285338   0.999996  0.999997  0.999998   \n",
       "\n",
       "              NBR_3     NBR_4     NBR_5  \n",
       "lat        0.782162  0.782171  0.782183  \n",
       "lon        0.752300  0.752300  0.752297  \n",
       "N          0.285310  0.285312  0.285338  \n",
       "haversine  0.999998  0.999997  0.999996  \n",
       "NBR_1      0.999999  0.999998  0.999997  \n",
       "NBR_2      1.000000  0.999999  0.999998  \n",
       "NBR_3      1.000000  1.000000  0.999999  \n",
       "NBR_4      1.000000  1.000000  0.999999  \n",
       "NBR_5      0.999999  0.999999  1.000000  "
      ]
     },
     "execution_count": 282,
     "metadata": {},
     "output_type": "execute_result"
    }
   ],
   "source": [
    "df.corr()"
   ]
  },
  {
   "cell_type": "code",
   "execution_count": 283,
   "id": "decimal-ending",
   "metadata": {},
   "outputs": [
    {
     "data": {
      "text/html": [
       "<div>\n",
       "<style scoped>\n",
       "    .dataframe tbody tr th:only-of-type {\n",
       "        vertical-align: middle;\n",
       "    }\n",
       "\n",
       "    .dataframe tbody tr th {\n",
       "        vertical-align: top;\n",
       "    }\n",
       "\n",
       "    .dataframe thead th {\n",
       "        text-align: right;\n",
       "    }\n",
       "</style>\n",
       "<table border=\"1\" class=\"dataframe\">\n",
       "  <thead>\n",
       "    <tr style=\"text-align: right;\">\n",
       "      <th></th>\n",
       "      <th>lat</th>\n",
       "      <th>lon</th>\n",
       "      <th>N</th>\n",
       "      <th>haversine</th>\n",
       "      <th>NBR_1</th>\n",
       "      <th>NBR_2</th>\n",
       "      <th>NBR_3</th>\n",
       "      <th>NBR_4</th>\n",
       "      <th>NBR_5</th>\n",
       "    </tr>\n",
       "  </thead>\n",
       "  <tbody>\n",
       "    <tr>\n",
       "      <th>0</th>\n",
       "      <td>17.895</td>\n",
       "      <td>73.401</td>\n",
       "      <td>-0.429770</td>\n",
       "      <td>0.000000</td>\n",
       "      <td>105.815598</td>\n",
       "      <td>317.446794</td>\n",
       "      <td>423.262393</td>\n",
       "      <td>529.077991</td>\n",
       "      <td>634.893589</td>\n",
       "    </tr>\n",
       "    <tr>\n",
       "      <th>1</th>\n",
       "      <td>17.895</td>\n",
       "      <td>73.402</td>\n",
       "      <td>-0.802977</td>\n",
       "      <td>105.815598</td>\n",
       "      <td>211.631196</td>\n",
       "      <td>423.262393</td>\n",
       "      <td>529.077991</td>\n",
       "      <td>634.893589</td>\n",
       "      <td>846.524785</td>\n",
       "    </tr>\n",
       "    <tr>\n",
       "      <th>2</th>\n",
       "      <td>17.895</td>\n",
       "      <td>73.404</td>\n",
       "      <td>-0.191549</td>\n",
       "      <td>317.446794</td>\n",
       "      <td>423.262393</td>\n",
       "      <td>529.077991</td>\n",
       "      <td>634.893589</td>\n",
       "      <td>846.524785</td>\n",
       "      <td>3491.914734</td>\n",
       "    </tr>\n",
       "    <tr>\n",
       "      <th>3</th>\n",
       "      <td>17.895</td>\n",
       "      <td>73.405</td>\n",
       "      <td>-0.489419</td>\n",
       "      <td>423.262393</td>\n",
       "      <td>529.077991</td>\n",
       "      <td>529.077991</td>\n",
       "      <td>634.893589</td>\n",
       "      <td>3491.914734</td>\n",
       "      <td>8465.247787</td>\n",
       "    </tr>\n",
       "    <tr>\n",
       "      <th>4</th>\n",
       "      <td>17.895</td>\n",
       "      <td>73.406</td>\n",
       "      <td>-0.120855</td>\n",
       "      <td>529.077991</td>\n",
       "      <td>634.893589</td>\n",
       "      <td>634.893589</td>\n",
       "      <td>740.709187</td>\n",
       "      <td>846.524785</td>\n",
       "      <td>8571.063383</td>\n",
       "    </tr>\n",
       "  </tbody>\n",
       "</table>\n",
       "</div>"
      ],
      "text/plain": [
       "      lat     lon         N   haversine       NBR_1       NBR_2       NBR_3  \\\n",
       "0  17.895  73.401 -0.429770    0.000000  105.815598  317.446794  423.262393   \n",
       "1  17.895  73.402 -0.802977  105.815598  211.631196  423.262393  529.077991   \n",
       "2  17.895  73.404 -0.191549  317.446794  423.262393  529.077991  634.893589   \n",
       "3  17.895  73.405 -0.489419  423.262393  529.077991  529.077991  634.893589   \n",
       "4  17.895  73.406 -0.120855  529.077991  634.893589  634.893589  740.709187   \n",
       "\n",
       "         NBR_4        NBR_5  \n",
       "0   529.077991   634.893589  \n",
       "1   634.893589   846.524785  \n",
       "2   846.524785  3491.914734  \n",
       "3  3491.914734  8465.247787  \n",
       "4   846.524785  8571.063383  "
      ]
     },
     "execution_count": 283,
     "metadata": {},
     "output_type": "execute_result"
    }
   ],
   "source": [
    "df.head()"
   ]
  },
  {
   "cell_type": "code",
   "execution_count": 284,
   "id": "passive-description",
   "metadata": {},
   "outputs": [],
   "source": [
    "#do some more preprocessing\n",
    "# col = [ 'NBR_1', 'NBR_2', 'NBR_3', 'NBR_4', 'NBR_5']\n",
    "# for c in col:\n",
    "#   df[c] = (df[c] - int(df[c].min())) #convert distance into meters"
   ]
  },
  {
   "cell_type": "code",
   "execution_count": 285,
   "id": "retained-margin",
   "metadata": {},
   "outputs": [],
   "source": [
    "# df = df.sample(frac = 1).reset_index(drop =True)\n",
    "# df.head()"
   ]
  },
  {
   "cell_type": "code",
   "execution_count": 286,
   "id": "premier-threat",
   "metadata": {},
   "outputs": [
    {
     "data": {
      "text/plain": [
       "(23192, 9)"
      ]
     },
     "execution_count": 286,
     "metadata": {},
     "output_type": "execute_result"
    }
   ],
   "source": [
    "df.shape"
   ]
  },
  {
   "cell_type": "code",
   "execution_count": 287,
   "id": "prostate-girlfriend",
   "metadata": {},
   "outputs": [],
   "source": [
    "# df['N'] = (df['N'] - df['N'].min())/(df['N'].max()-df['N'].min())\n",
    "# df.head()"
   ]
  },
  {
   "cell_type": "code",
   "execution_count": 288,
   "id": "collected-evidence",
   "metadata": {},
   "outputs": [],
   "source": [
    "# # \n",
    "col = ['lat', 'lon']\n",
    "df[col] = df[col]*100"
   ]
  },
  {
   "cell_type": "code",
   "execution_count": 289,
   "id": "a4fe6127",
   "metadata": {},
   "outputs": [
    {
     "data": {
      "text/html": [
       "<div>\n",
       "<style scoped>\n",
       "    .dataframe tbody tr th:only-of-type {\n",
       "        vertical-align: middle;\n",
       "    }\n",
       "\n",
       "    .dataframe tbody tr th {\n",
       "        vertical-align: top;\n",
       "    }\n",
       "\n",
       "    .dataframe thead th {\n",
       "        text-align: right;\n",
       "    }\n",
       "</style>\n",
       "<table border=\"1\" class=\"dataframe\">\n",
       "  <thead>\n",
       "    <tr style=\"text-align: right;\">\n",
       "      <th></th>\n",
       "      <th>lat</th>\n",
       "      <th>lon</th>\n",
       "      <th>N</th>\n",
       "      <th>haversine</th>\n",
       "      <th>NBR_1</th>\n",
       "      <th>NBR_2</th>\n",
       "      <th>NBR_3</th>\n",
       "      <th>NBR_4</th>\n",
       "      <th>NBR_5</th>\n",
       "    </tr>\n",
       "  </thead>\n",
       "  <tbody>\n",
       "    <tr>\n",
       "      <th>lat</th>\n",
       "      <td>1.000000</td>\n",
       "      <td>0.213038</td>\n",
       "      <td>0.255719</td>\n",
       "      <td>0.782133</td>\n",
       "      <td>0.782140</td>\n",
       "      <td>0.782156</td>\n",
       "      <td>0.782162</td>\n",
       "      <td>0.782171</td>\n",
       "      <td>0.782183</td>\n",
       "    </tr>\n",
       "    <tr>\n",
       "      <th>lon</th>\n",
       "      <td>0.213038</td>\n",
       "      <td>1.000000</td>\n",
       "      <td>0.141445</td>\n",
       "      <td>0.752298</td>\n",
       "      <td>0.752302</td>\n",
       "      <td>0.752296</td>\n",
       "      <td>0.752300</td>\n",
       "      <td>0.752300</td>\n",
       "      <td>0.752297</td>\n",
       "    </tr>\n",
       "    <tr>\n",
       "      <th>N</th>\n",
       "      <td>0.255719</td>\n",
       "      <td>0.141445</td>\n",
       "      <td>1.000000</td>\n",
       "      <td>0.285297</td>\n",
       "      <td>0.285297</td>\n",
       "      <td>0.285312</td>\n",
       "      <td>0.285310</td>\n",
       "      <td>0.285312</td>\n",
       "      <td>0.285338</td>\n",
       "    </tr>\n",
       "    <tr>\n",
       "      <th>haversine</th>\n",
       "      <td>0.782133</td>\n",
       "      <td>0.752298</td>\n",
       "      <td>0.285297</td>\n",
       "      <td>1.000000</td>\n",
       "      <td>1.000000</td>\n",
       "      <td>0.999999</td>\n",
       "      <td>0.999998</td>\n",
       "      <td>0.999997</td>\n",
       "      <td>0.999996</td>\n",
       "    </tr>\n",
       "    <tr>\n",
       "      <th>NBR_1</th>\n",
       "      <td>0.782140</td>\n",
       "      <td>0.752302</td>\n",
       "      <td>0.285297</td>\n",
       "      <td>1.000000</td>\n",
       "      <td>1.000000</td>\n",
       "      <td>0.999999</td>\n",
       "      <td>0.999999</td>\n",
       "      <td>0.999998</td>\n",
       "      <td>0.999997</td>\n",
       "    </tr>\n",
       "    <tr>\n",
       "      <th>NBR_2</th>\n",
       "      <td>0.782156</td>\n",
       "      <td>0.752296</td>\n",
       "      <td>0.285312</td>\n",
       "      <td>0.999999</td>\n",
       "      <td>0.999999</td>\n",
       "      <td>1.000000</td>\n",
       "      <td>1.000000</td>\n",
       "      <td>0.999999</td>\n",
       "      <td>0.999998</td>\n",
       "    </tr>\n",
       "    <tr>\n",
       "      <th>NBR_3</th>\n",
       "      <td>0.782162</td>\n",
       "      <td>0.752300</td>\n",
       "      <td>0.285310</td>\n",
       "      <td>0.999998</td>\n",
       "      <td>0.999999</td>\n",
       "      <td>1.000000</td>\n",
       "      <td>1.000000</td>\n",
       "      <td>1.000000</td>\n",
       "      <td>0.999999</td>\n",
       "    </tr>\n",
       "    <tr>\n",
       "      <th>NBR_4</th>\n",
       "      <td>0.782171</td>\n",
       "      <td>0.752300</td>\n",
       "      <td>0.285312</td>\n",
       "      <td>0.999997</td>\n",
       "      <td>0.999998</td>\n",
       "      <td>0.999999</td>\n",
       "      <td>1.000000</td>\n",
       "      <td>1.000000</td>\n",
       "      <td>0.999999</td>\n",
       "    </tr>\n",
       "    <tr>\n",
       "      <th>NBR_5</th>\n",
       "      <td>0.782183</td>\n",
       "      <td>0.752297</td>\n",
       "      <td>0.285338</td>\n",
       "      <td>0.999996</td>\n",
       "      <td>0.999997</td>\n",
       "      <td>0.999998</td>\n",
       "      <td>0.999999</td>\n",
       "      <td>0.999999</td>\n",
       "      <td>1.000000</td>\n",
       "    </tr>\n",
       "  </tbody>\n",
       "</table>\n",
       "</div>"
      ],
      "text/plain": [
       "                lat       lon         N  haversine     NBR_1     NBR_2  \\\n",
       "lat        1.000000  0.213038  0.255719   0.782133  0.782140  0.782156   \n",
       "lon        0.213038  1.000000  0.141445   0.752298  0.752302  0.752296   \n",
       "N          0.255719  0.141445  1.000000   0.285297  0.285297  0.285312   \n",
       "haversine  0.782133  0.752298  0.285297   1.000000  1.000000  0.999999   \n",
       "NBR_1      0.782140  0.752302  0.285297   1.000000  1.000000  0.999999   \n",
       "NBR_2      0.782156  0.752296  0.285312   0.999999  0.999999  1.000000   \n",
       "NBR_3      0.782162  0.752300  0.285310   0.999998  0.999999  1.000000   \n",
       "NBR_4      0.782171  0.752300  0.285312   0.999997  0.999998  0.999999   \n",
       "NBR_5      0.782183  0.752297  0.285338   0.999996  0.999997  0.999998   \n",
       "\n",
       "              NBR_3     NBR_4     NBR_5  \n",
       "lat        0.782162  0.782171  0.782183  \n",
       "lon        0.752300  0.752300  0.752297  \n",
       "N          0.285310  0.285312  0.285338  \n",
       "haversine  0.999998  0.999997  0.999996  \n",
       "NBR_1      0.999999  0.999998  0.999997  \n",
       "NBR_2      1.000000  0.999999  0.999998  \n",
       "NBR_3      1.000000  1.000000  0.999999  \n",
       "NBR_4      1.000000  1.000000  0.999999  \n",
       "NBR_5      0.999999  0.999999  1.000000  "
      ]
     },
     "execution_count": 289,
     "metadata": {},
     "output_type": "execute_result"
    }
   ],
   "source": [
    "df.corr()"
   ]
  },
  {
   "cell_type": "code",
   "execution_count": 290,
   "id": "athletic-analyst",
   "metadata": {},
   "outputs": [],
   "source": [
    "data = df[['N', 'lat', 'lon']].copy()"
   ]
  },
  {
   "cell_type": "code",
   "execution_count": 291,
   "id": "hollywood-lafayette",
   "metadata": {},
   "outputs": [],
   "source": [
    "norm_mean = data.mean()\n",
    "norm_std = data.std()"
   ]
  },
  {
   "cell_type": "code",
   "execution_count": 292,
   "id": "understood-migration",
   "metadata": {},
   "outputs": [],
   "source": [
    "#split dataset into train and test\n",
    "# split the dataset into train and test dataset\n",
    "ix = np.random.choice(data.shape[0],int(data.shape[0]*0.2),replace = False)\n",
    "data_train = data.iloc[[int(i) for i in range(data.shape[0]) if i not in ix]].reset_index(drop = True)\n",
    "data_test = data.iloc[ix].reset_index(drop = True)"
   ]
  },
  {
   "cell_type": "code",
   "execution_count": 293,
   "id": "vanilla-artwork",
   "metadata": {},
   "outputs": [
    {
     "data": {
      "text/plain": [
       "((18554, 3), (4638, 3))"
      ]
     },
     "execution_count": 293,
     "metadata": {},
     "output_type": "execute_result"
    }
   ],
   "source": [
    "data_train.shape, data_test.shape"
   ]
  },
  {
   "cell_type": "code",
   "execution_count": 294,
   "id": "altered-european",
   "metadata": {},
   "outputs": [
    {
     "data": {
      "text/html": [
       "<div>\n",
       "<style scoped>\n",
       "    .dataframe tbody tr th:only-of-type {\n",
       "        vertical-align: middle;\n",
       "    }\n",
       "\n",
       "    .dataframe tbody tr th {\n",
       "        vertical-align: top;\n",
       "    }\n",
       "\n",
       "    .dataframe thead th {\n",
       "        text-align: right;\n",
       "    }\n",
       "</style>\n",
       "<table border=\"1\" class=\"dataframe\">\n",
       "  <thead>\n",
       "    <tr style=\"text-align: right;\">\n",
       "      <th></th>\n",
       "      <th>N</th>\n",
       "      <th>lat</th>\n",
       "      <th>lon</th>\n",
       "    </tr>\n",
       "  </thead>\n",
       "  <tbody>\n",
       "    <tr>\n",
       "      <th>0</th>\n",
       "      <td>-0.429770</td>\n",
       "      <td>1789.5</td>\n",
       "      <td>7340.1</td>\n",
       "    </tr>\n",
       "    <tr>\n",
       "      <th>1</th>\n",
       "      <td>-0.802977</td>\n",
       "      <td>1789.5</td>\n",
       "      <td>7340.2</td>\n",
       "    </tr>\n",
       "    <tr>\n",
       "      <th>2</th>\n",
       "      <td>-0.191549</td>\n",
       "      <td>1789.5</td>\n",
       "      <td>7340.4</td>\n",
       "    </tr>\n",
       "    <tr>\n",
       "      <th>3</th>\n",
       "      <td>-0.489419</td>\n",
       "      <td>1789.5</td>\n",
       "      <td>7340.5</td>\n",
       "    </tr>\n",
       "    <tr>\n",
       "      <th>4</th>\n",
       "      <td>-0.120855</td>\n",
       "      <td>1789.5</td>\n",
       "      <td>7340.6</td>\n",
       "    </tr>\n",
       "  </tbody>\n",
       "</table>\n",
       "</div>"
      ],
      "text/plain": [
       "          N     lat     lon\n",
       "0 -0.429770  1789.5  7340.1\n",
       "1 -0.802977  1789.5  7340.2\n",
       "2 -0.191549  1789.5  7340.4\n",
       "3 -0.489419  1789.5  7340.5\n",
       "4 -0.120855  1789.5  7340.6"
      ]
     },
     "execution_count": 294,
     "metadata": {},
     "output_type": "execute_result"
    }
   ],
   "source": [
    "data_train.head()"
   ]
  },
  {
   "cell_type": "code",
   "execution_count": 295,
   "id": "indian-convertible",
   "metadata": {},
   "outputs": [
    {
     "data": {
      "text/html": [
       "<div>\n",
       "<style scoped>\n",
       "    .dataframe tbody tr th:only-of-type {\n",
       "        vertical-align: middle;\n",
       "    }\n",
       "\n",
       "    .dataframe tbody tr th {\n",
       "        vertical-align: top;\n",
       "    }\n",
       "\n",
       "    .dataframe thead th {\n",
       "        text-align: right;\n",
       "    }\n",
       "</style>\n",
       "<table border=\"1\" class=\"dataframe\">\n",
       "  <thead>\n",
       "    <tr style=\"text-align: right;\">\n",
       "      <th></th>\n",
       "      <th>N</th>\n",
       "      <th>lat</th>\n",
       "      <th>lon</th>\n",
       "    </tr>\n",
       "  </thead>\n",
       "  <tbody>\n",
       "    <tr>\n",
       "      <th>0</th>\n",
       "      <td>-0.830106</td>\n",
       "      <td>1796.0</td>\n",
       "      <td>7486.0</td>\n",
       "    </tr>\n",
       "    <tr>\n",
       "      <th>1</th>\n",
       "      <td>-1.134095</td>\n",
       "      <td>1863.8</td>\n",
       "      <td>7558.5</td>\n",
       "    </tr>\n",
       "    <tr>\n",
       "      <th>2</th>\n",
       "      <td>-1.282532</td>\n",
       "      <td>1851.7</td>\n",
       "      <td>7429.9</td>\n",
       "    </tr>\n",
       "    <tr>\n",
       "      <th>3</th>\n",
       "      <td>-1.100215</td>\n",
       "      <td>1971.7</td>\n",
       "      <td>7401.8</td>\n",
       "    </tr>\n",
       "    <tr>\n",
       "      <th>4</th>\n",
       "      <td>-1.420518</td>\n",
       "      <td>1886.2</td>\n",
       "      <td>7520.4</td>\n",
       "    </tr>\n",
       "  </tbody>\n",
       "</table>\n",
       "</div>"
      ],
      "text/plain": [
       "          N     lat     lon\n",
       "0 -0.830106  1796.0  7486.0\n",
       "1 -1.134095  1863.8  7558.5\n",
       "2 -1.282532  1851.7  7429.9\n",
       "3 -1.100215  1971.7  7401.8\n",
       "4 -1.420518  1886.2  7520.4"
      ]
     },
     "execution_count": 295,
     "metadata": {},
     "output_type": "execute_result"
    }
   ],
   "source": [
    "data_test.head()"
   ]
  },
  {
   "cell_type": "code",
   "execution_count": null,
   "id": "proof-barrel",
   "metadata": {},
   "outputs": [],
   "source": []
  },
  {
   "cell_type": "code",
   "execution_count": 296,
   "id": "awful-turning",
   "metadata": {},
   "outputs": [
    {
     "data": {
      "text/plain": [
       "(4638, 3)"
      ]
     },
     "execution_count": 296,
     "metadata": {},
     "output_type": "execute_result"
    }
   ],
   "source": [
    "data_test.shape"
   ]
  },
  {
   "cell_type": "code",
   "execution_count": 297,
   "id": "catholic-greensboro",
   "metadata": {},
   "outputs": [],
   "source": [
    "# data_train = (data_train-norm_mean)/norm_std\n",
    "# data_test = (data_test-norm_mean)/norm_std"
   ]
  },
  {
   "cell_type": "code",
   "execution_count": 298,
   "id": "cheap-simple",
   "metadata": {},
   "outputs": [
    {
     "data": {
      "text/html": [
       "<div>\n",
       "<style scoped>\n",
       "    .dataframe tbody tr th:only-of-type {\n",
       "        vertical-align: middle;\n",
       "    }\n",
       "\n",
       "    .dataframe tbody tr th {\n",
       "        vertical-align: top;\n",
       "    }\n",
       "\n",
       "    .dataframe thead th {\n",
       "        text-align: right;\n",
       "    }\n",
       "</style>\n",
       "<table border=\"1\" class=\"dataframe\">\n",
       "  <thead>\n",
       "    <tr style=\"text-align: right;\">\n",
       "      <th></th>\n",
       "      <th>N</th>\n",
       "      <th>lat</th>\n",
       "      <th>lon</th>\n",
       "    </tr>\n",
       "  </thead>\n",
       "  <tbody>\n",
       "    <tr>\n",
       "      <th>0</th>\n",
       "      <td>-0.429770</td>\n",
       "      <td>1789.5</td>\n",
       "      <td>7340.1</td>\n",
       "    </tr>\n",
       "    <tr>\n",
       "      <th>1</th>\n",
       "      <td>-0.802977</td>\n",
       "      <td>1789.5</td>\n",
       "      <td>7340.2</td>\n",
       "    </tr>\n",
       "    <tr>\n",
       "      <th>2</th>\n",
       "      <td>-0.191549</td>\n",
       "      <td>1789.5</td>\n",
       "      <td>7340.4</td>\n",
       "    </tr>\n",
       "    <tr>\n",
       "      <th>3</th>\n",
       "      <td>-0.489419</td>\n",
       "      <td>1789.5</td>\n",
       "      <td>7340.5</td>\n",
       "    </tr>\n",
       "    <tr>\n",
       "      <th>4</th>\n",
       "      <td>-0.120855</td>\n",
       "      <td>1789.5</td>\n",
       "      <td>7340.6</td>\n",
       "    </tr>\n",
       "  </tbody>\n",
       "</table>\n",
       "</div>"
      ],
      "text/plain": [
       "          N     lat     lon\n",
       "0 -0.429770  1789.5  7340.1\n",
       "1 -0.802977  1789.5  7340.2\n",
       "2 -0.191549  1789.5  7340.4\n",
       "3 -0.489419  1789.5  7340.5\n",
       "4 -0.120855  1789.5  7340.6"
      ]
     },
     "execution_count": 298,
     "metadata": {},
     "output_type": "execute_result"
    }
   ],
   "source": [
    "data_train.head()"
   ]
  },
  {
   "cell_type": "code",
   "execution_count": 299,
   "id": "waiting-attack",
   "metadata": {},
   "outputs": [
    {
     "data": {
      "text/html": [
       "<div>\n",
       "<style scoped>\n",
       "    .dataframe tbody tr th:only-of-type {\n",
       "        vertical-align: middle;\n",
       "    }\n",
       "\n",
       "    .dataframe tbody tr th {\n",
       "        vertical-align: top;\n",
       "    }\n",
       "\n",
       "    .dataframe thead th {\n",
       "        text-align: right;\n",
       "    }\n",
       "</style>\n",
       "<table border=\"1\" class=\"dataframe\">\n",
       "  <thead>\n",
       "    <tr style=\"text-align: right;\">\n",
       "      <th></th>\n",
       "      <th>N</th>\n",
       "      <th>lat</th>\n",
       "      <th>lon</th>\n",
       "    </tr>\n",
       "  </thead>\n",
       "  <tbody>\n",
       "    <tr>\n",
       "      <th>0</th>\n",
       "      <td>-0.830106</td>\n",
       "      <td>1796.0</td>\n",
       "      <td>7486.0</td>\n",
       "    </tr>\n",
       "    <tr>\n",
       "      <th>1</th>\n",
       "      <td>-1.134095</td>\n",
       "      <td>1863.8</td>\n",
       "      <td>7558.5</td>\n",
       "    </tr>\n",
       "    <tr>\n",
       "      <th>2</th>\n",
       "      <td>-1.282532</td>\n",
       "      <td>1851.7</td>\n",
       "      <td>7429.9</td>\n",
       "    </tr>\n",
       "    <tr>\n",
       "      <th>3</th>\n",
       "      <td>-1.100215</td>\n",
       "      <td>1971.7</td>\n",
       "      <td>7401.8</td>\n",
       "    </tr>\n",
       "    <tr>\n",
       "      <th>4</th>\n",
       "      <td>-1.420518</td>\n",
       "      <td>1886.2</td>\n",
       "      <td>7520.4</td>\n",
       "    </tr>\n",
       "  </tbody>\n",
       "</table>\n",
       "</div>"
      ],
      "text/plain": [
       "          N     lat     lon\n",
       "0 -0.830106  1796.0  7486.0\n",
       "1 -1.134095  1863.8  7558.5\n",
       "2 -1.282532  1851.7  7429.9\n",
       "3 -1.100215  1971.7  7401.8\n",
       "4 -1.420518  1886.2  7520.4"
      ]
     },
     "execution_count": 299,
     "metadata": {},
     "output_type": "execute_result"
    }
   ],
   "source": [
    "data_test.head()"
   ]
  },
  {
   "cell_type": "code",
   "execution_count": null,
   "id": "vietnamese-supplier",
   "metadata": {},
   "outputs": [],
   "source": []
  },
  {
   "cell_type": "markdown",
   "id": "paperback-sampling",
   "metadata": {},
   "source": [
    " ## NP Model"
   ]
  },
  {
   "cell_type": "code",
   "execution_count": 300,
   "id": "tutorial-process",
   "metadata": {},
   "outputs": [],
   "source": [
    "class baseNPBlock(nn.Module):\n",
    "    \"\"\"relu non-linearities for NP block\"\"\"\n",
    "    def __init__(self, inp_size,op_size, isnorm = True, bias = False, p = 0):\n",
    "        \"\"\"init function for linear2d class\n",
    "\n",
    "        parameters\n",
    "        ----------\n",
    "        inp_size : int\n",
    "                input dimension for the Encoder part (d_in)\n",
    "        op_size : int\n",
    "                output dimension for Encoder part(d_out)\n",
    "        norm : str\n",
    "                normalization to be applied on linear output\n",
    "                pass norm == 'batch' to apply batch normalization\n",
    "                else dropout normalization is applied\n",
    "        bias : bool\n",
    "                if True, bias is included for linear layer else discarded\n",
    "        p : float\n",
    "                probality to be considered while applying Dropout regularization\n",
    "                \n",
    "        \"\"\"\n",
    "        super().__init__()\n",
    "        self.linear = nn.Linear(inp_size,op_size,bias = bias)\n",
    "        self.relu  = nn.ReLU()\n",
    "        self.batch_norm = nn.BatchNorm2d(inp_size)\n",
    "        self.dropout = nn.Dropout2d(p)\n",
    "        self.isnorm = isnorm\n",
    "        \n",
    "    def forward(self,x):\n",
    "#         print(x.shape)\n",
    "        \n",
    "#         print(x.shape)\n",
    "        if self.isnorm:\n",
    "            x = self.batch_norm(x.permute(0,2,1)[:,:,:,None]) \n",
    "#             print(x.shape)\n",
    "            x = self.dropout(x)\n",
    "            x = x[:,:,:,0].permute(0,2,1)\n",
    "        x = self.linear(x)\n",
    "#         print(x)\n",
    "        x = self.relu(x)\n",
    "        return x"
   ]
  },
  {
   "cell_type": "code",
   "execution_count": 301,
   "id": "complicated-double",
   "metadata": {},
   "outputs": [],
   "source": [
    "class batch_MLP(nn.Module):\n",
    "    \"\"\" Batch MLP layer for NP-Encoder\"\"\"\n",
    "    def __init__(self, in_size, op_size, last_op_size,  num_layers, isnorm = True, p = 0):\n",
    "        \"\"\"init function for linear2d class\n",
    "        \n",
    "        parameters\n",
    "        ----------\n",
    "        inp_size : int\n",
    "                input dimension for the Encoder part (d_in)\n",
    "        op_size : int\n",
    "                output dimension for Encoder part(d_out)\n",
    "        norm : str\n",
    "                normalization to be applied on linear output\n",
    "                pass norm == 'batch' to apply batch normalization\n",
    "                else dropout normalization is applied\n",
    "                \n",
    "        return torch.tensor of size (B,num_context_points,d_out)\n",
    "        \"\"\"\n",
    "        super().__init__()\n",
    "        self.in_size = in_size\n",
    "        self.op_size = op_size\n",
    "        self.num_layers = num_layers\n",
    "        self.isnorm  = isnorm\n",
    "        \n",
    "        self.first_layer = baseNPBlock(in_size, op_size, self.isnorm, False,p)\n",
    "        self.encoder = nn.Sequential(*[baseNPBlock(op_size, op_size, self.isnorm, False, p) for layer in range(self.num_layers-2)])\n",
    "        self.last_layer = nn.Linear(op_size, last_op_size )\n",
    "        \n",
    "    def forward(self, x):\n",
    "        x = self.first_layer(x)\n",
    "        x = self.encoder(x)\n",
    "        x = self.last_layer(x)\n",
    "        \n",
    "        return x"
   ]
  },
  {
   "cell_type": "code",
   "execution_count": 302,
   "id": "anticipated-heath",
   "metadata": {},
   "outputs": [],
   "source": [
    "class LinearAttention(nn.Module):\n",
    "    def __init__(self,in_ch, out_ch):\n",
    "        super().__init__()\n",
    "        self.linear = nn.Linear(in_ch, out_ch, bias = False)\n",
    "        torch.nn.init.normal_(self.linear.weight,std = in_ch**0.5) #initilize weight matrix\n",
    "        \n",
    "    def forward(self,x):\n",
    "#         print(\"x dim =\", x.shape)\n",
    "        return self.linear(x)\n",
    "    \n",
    "    \n",
    "class AttentionModule(nn.Module):\n",
    "    def __init__(\n",
    "        self,\n",
    "        hidden_dim, \n",
    "        attn_type , \n",
    "        attn_layers,\n",
    "        x_dim, \n",
    "        rep='mlp',\n",
    "        n_multiheads = 8,\n",
    "        isnorm = True,\n",
    "        p = 0):\n",
    "        \n",
    "        super().__init__()\n",
    "        self.rep = rep\n",
    "\n",
    "        # rep determines whether raw input given to the model would be used as key and query or\n",
    "        # it's output through MLP. \n",
    "        if self.rep =='mlp':\n",
    "            \n",
    "            self.batch_mlpk = batch_MLP(x_dim, hidden_dim, hidden_dim, attn_layers, isnorm ,p)\n",
    "            self.batch_mlpq = batch_MLP(x_dim, hidden_dim, hidden_dim, attn_layers, isnorm, p)\n",
    "        \n",
    "        \n",
    "        if attn_type == 'uniform':\n",
    "            self.attn_func = self.uniform_attn\n",
    "        if attn_type=='laplace':\n",
    "            self.attn_func = self.laplace_attn\n",
    "        if attn_type == 'dot':\n",
    "            self.attn_func = self.dot_attn\n",
    "        elif attn_type == 'multihead':\n",
    "            self.w_k = nn.ModuleList([LinearAttention(hidden_dim,hidden_dim) for head in range(n_multiheads)])\n",
    "            self.w_v = nn.ModuleList([LinearAttention(hidden_dim,hidden_dim) for head in range(n_multiheads)])\n",
    "            self.w_q = nn.ModuleList([LinearAttention(hidden_dim,hidden_dim) for head in range(n_multiheads)])\n",
    "            \n",
    "            self.w = LinearAttention(hidden_dim*n_multiheads,hidden_dim)\n",
    "            self.attn_func = self.multihead_attn\n",
    "            self.num_heads = n_multiheads\n",
    "            \n",
    "            \n",
    "            \n",
    "    def forward(self, k, q, v):\n",
    "        \n",
    "        if self.rep =='mlp':\n",
    "#             print(\"in mlp\")\n",
    "            k = self.batch_mlpk(k) #(B, n, H)\n",
    "            q = self.batch_mlpq(q) #(B, m, H)\n",
    "#         print(k.shape, q.shape, v.shape)\n",
    "        rep = self.attn_func(k,q,v)\n",
    "        \n",
    "        return rep\n",
    "    \n",
    "    \n",
    "    def uniform_attn(self, k, q, v):\n",
    "        num_points = q.shape[1]\n",
    "        rep = torch.mean(v, axis = 1, keepdim = True)\n",
    "        rep = rep.repeat(1,num_points,1)\n",
    "        \n",
    "        return rep\n",
    "    \n",
    "    def laplace_attn(self, k, q, v, scale = 0.5):\n",
    "        k = k.unsqueeze(1)\n",
    "        v = v.unsqueeze(2)\n",
    "        \n",
    "        w = torch.abs((k-v)*scale)\n",
    "        w = w.sum(dim = -1)\n",
    "        weight = torch.softmax(w, dim = -1)\n",
    "        \n",
    "        #batch matrix multiplication (einstein summation convention for tensor)\n",
    "        rep = torch.einsum(\"bik, bkj -> bij\",weight, v)\n",
    "        \n",
    "        return rep\n",
    "    \n",
    "    \n",
    "    def dot_attn(self, k, q, v):\n",
    "#         print(\"k =\",k.shape)\n",
    "#         print(\"q =\",q.shape)\n",
    "#         print(\"v =\",v.shape)    \n",
    "        β = q.shape[-1]**0.5\n",
    "        w_unnorm = torch.einsum('bjk,bik->bij', k, q)/β\n",
    "#         print(\"w_unnorm =\",w_unnorm.shape)\n",
    "        \n",
    "        weight = torch.softmax(w_unnorm, dim = -1)\n",
    "        rep = torch.einsum(\"bik, bkj -> bij\",weight, v)\n",
    "#         print(\"rep =\",rep.shape)\n",
    "        return rep\n",
    "    \n",
    "    def multihead_attn(self, k , q, v):\n",
    "        outs = []\n",
    "        \n",
    "        for i in range(self.num_heads):\n",
    "#             print(\"k =\",k.shape)\n",
    "            k = self.w_k[i](k) #(B, n, H)\n",
    "#             print(\"k =\",k.shape)\n",
    "            q = self.w_q[i](q) #(B, m, H)\n",
    "#             print(\"q =\",q.shape)\n",
    "            v = self.w_v[i](v) #(B, n, H)\n",
    "#             print(\"v =\",v.shape)\n",
    "            out = self.dot_attn(k, q, v)\n",
    "            outs.append(out)\n",
    "            \n",
    "        outs = torch.stack(outs, dim = -1) #(B, m, H, n_heads)\n",
    "#         print(\"outs dim =\", outs.shape)\n",
    "        outs = outs.view(outs.shape[0], outs.shape[1], -1) #(B, m, n_heads*H)\n",
    "#         print(\"outs shape =\",outs.shape)\n",
    "        rep = self.w(outs) #(B, m, H)\n",
    "        \n",
    "        return rep\n",
    "    \n",
    "    "
   ]
  },
  {
   "cell_type": "code",
   "execution_count": 303,
   "id": "important-toyota",
   "metadata": {},
   "outputs": [],
   "source": [
    "# AttentionModule?"
   ]
  },
  {
   "cell_type": "code",
   "execution_count": 304,
   "id": "contained-possession",
   "metadata": {},
   "outputs": [],
   "source": [
    "class DeterministicEncoder(nn.Module):\n",
    "    def __init__(\n",
    "                self,\n",
    "                in_dim,\n",
    "                x_dim,\n",
    "                isnorm = True,\n",
    "                hidden_dim = 32,\n",
    "                n_encoder_layer = 2,\n",
    "                rep = 'mlp',\n",
    "                self_attn_type ='dot',\n",
    "                cross_attn_type ='dot',\n",
    "                n_multiheads = 8,\n",
    "                p_encoder = 0,\n",
    "                p_attention = 0,\n",
    "                attn_layers = 2,\n",
    "                use_self_attn = False\n",
    "                ):\n",
    "        super().__init__()\n",
    "        \n",
    "        self.use_self_attn = use_self_attn\n",
    "        \n",
    "        self.encoder = batch_MLP(in_dim, hidden_dim, hidden_dim, n_encoder_layer,isnorm, p_encoder)\n",
    "        \n",
    "        if self.use_self_attn:\n",
    "            self.self_attn = AttentionModule(hidden_dim, self_attn_type, attn_layers,x_dim, rep = 'identitiy',isnorm = isnorm, p = p_attention, n_multiheads = n_multiheads)\n",
    "            \n",
    "        self.cross_attn = AttentionModule(hidden_dim, cross_attn_type, attn_layers, x_dim, rep ='mlp', isnorm = isnorm, p = p_attention, n_multiheads = n_multiheads)\n",
    "        \n",
    "    \n",
    "    def forward(self, context_x, context_y, target_x):\n",
    "        #concatenate context_x, context_y along the last dim.\n",
    "        det_enc_in = torch.cat([context_x, context_y], dim = -1)\n",
    "        \n",
    "        det_encoded = self.encoder(det_enc_in) #(B, n, hd)\n",
    "#         print(\"in det 1\",det_encoded.shape)\n",
    "        if self.use_self_attn:\n",
    "            det_encoded = self.self_attn(det_encoded, det_encoded, det_encoded) #(B, n, hd)\n",
    "#         print(\"in det 2\",det_encoded.shape)    \n",
    "        h = self.cross_attn(context_x, target_x, det_encoded) #(B, n, hd)\n",
    "        \n",
    "        return h\n",
    "        \n",
    "        \n",
    "    \n",
    "        \n",
    "        "
   ]
  },
  {
   "cell_type": "code",
   "execution_count": 305,
   "id": "unlikely-section",
   "metadata": {},
   "outputs": [],
   "source": [
    "class LatentEncoder(nn.Module):\n",
    "    def __init__(self,\n",
    "                in_dim,\n",
    "                 x_dim,\n",
    "                hidden_dim = 32,\n",
    "                latent_dim = 32,\n",
    "                self_attn_type = 'dot',\n",
    "                encoder_layer = 3,\n",
    "                 n_multiheads = 8,\n",
    "                min_std = 0.01,\n",
    "                isnorm = True,\n",
    "                p_encoder = 0,\n",
    "                p_attn = 0,\n",
    "                use_self_attn = False,\n",
    "                attn_layers = 2,\n",
    "                 rep ='mlp'\n",
    "                ):\n",
    "        \n",
    "        super().__init__()\n",
    "        \n",
    "        self._use_attn = use_self_attn\n",
    "        \n",
    "        self.encoder = batch_MLP(in_dim, hidden_dim,hidden_dim, encoder_layer,isnorm, p_encoder)\n",
    "        \n",
    "        if self._use_attn:\n",
    "            self.self_attn = AttentionModule(hidden_dim, self_attn_type, attn_layers,x_dim, rep = rep,isnorm = isnorm, p = p_attn, n_multiheads = n_multiheads)\n",
    "        \n",
    "        self.secondlast_layer = nn.Linear(hidden_dim, hidden_dim)\n",
    "        self.mean = nn.Linear(hidden_dim, latent_dim)\n",
    "        self.l_sigma = nn.Linear(hidden_dim, latent_dim) \n",
    "        self.min_std = min_std\n",
    "#         self.use_lvar = use_lvar\n",
    "        self.use_attn = use_self_attn\n",
    "        \n",
    "        self.relu = torch.nn.ReLU()\n",
    "        \n",
    "    def forward(self,x,y):\n",
    "        encoder_inp = torch.cat([x,y], dim = -1) \n",
    "#         print(\"encoded_in = \\n\",encoder_inp,\"\\n\")\n",
    "        encoded_op = self.encoder(encoder_inp)#(B, n, hd)\n",
    "#         print(\"encoder_op shape = \",encoded_op.shape)\n",
    "#         print(\"encoded_op = \\n\",encoded_op,\"\\n\")\n",
    "        if self.use_attn:\n",
    "            encoded_op = self.self_attn(encoded_op, encoded_op, encoded_op) #(B, n, hd)\n",
    "            \n",
    "#         print(\"eo\",encoded_op)\n",
    "        mean_val = torch.mean(encoded_op, dim = 1) #mean aggregation over all the points (B, hd)\n",
    "    \n",
    "        #further MLP layer that maps parameters to gaussian latent\n",
    "        mean_repr = self.relu(self.secondlast_layer(mean_val)) #(B, hd)\n",
    "#         print(mean_repr)\n",
    "        μ = self.mean(mean_repr) # (B, ld)\n",
    "#         print(μ)\n",
    "#         print(\"mean = \", μ.shape)\n",
    "        log_scale = self.l_sigma(mean_repr) #(B, ld)\n",
    "        \n",
    "        #to avoid mode collapse\n",
    "        σ = self.min_std + (1-self.min_std)*torch.sigmoid(log_scale*0.5) #(B, ld)\n",
    "#         print(μ)\n",
    "#         print(μ.shape)\n",
    "        dist = torch.distributions.Normal(μ, σ)\n",
    "        \n",
    "        return dist\n",
    "        \n",
    "        \n",
    "            "
   ]
  },
  {
   "cell_type": "code",
   "execution_count": 306,
   "id": "fluid-probe",
   "metadata": {},
   "outputs": [],
   "source": [
    "class Decoder(nn.Module):\n",
    "    def __init__(self,\n",
    "                 x_dim,\n",
    "                 y_dim,\n",
    "                 hidden_dim = 32,\n",
    "                 latent_dim = 32,\n",
    "                 n_decoder_layer = 3,\n",
    "                 use_deterministic_path = True,\n",
    "                 min_std = 0.01,\n",
    "                 isnorm = True,\n",
    "                 dropout_p = 0,\n",
    "                ):\n",
    "        super().__init__()\n",
    "        \n",
    "        self.isnorm = isnorm\n",
    "        self.target_transform = nn.Linear(x_dim, hidden_dim)\n",
    "        \n",
    "        if use_deterministic_path:\n",
    "            hidden_dim_2 = hidden_dim + latent_dim + x_dim\n",
    "        else:\n",
    "            hidden_dim_2 = latent_dim + x_dim\n",
    "            \n",
    "        self.decoder = batch_MLP(hidden_dim_2, hidden_dim_2, 2, n_decoder_layer, isnorm, dropout_p)\n",
    "        \n",
    "#         self.mean = nn.Linear(hidden_dim_2, y_dim)\n",
    "#         self.std = nn.Linear(hidden_dim_2, y_dim)\n",
    "        self.deterministic_path = use_deterministic_path\n",
    "        self.min_std = min_std\n",
    "        \n",
    "        \n",
    "    def forward(self, rep,  t_x):\n",
    "#         x = self.target_transform(t_x)\n",
    "        \n",
    "#         if self.deterministic_path:\n",
    "#             z = torch.cat([r,z], dim = -1)\n",
    "# #             print(\"z.shape =\", z.shape)\n",
    "        hidden_decode = torch.cat([rep,t_x], dim = -1)\n",
    "#         print(\"hd =\",hidden_decode.shape)\n",
    "        hidden_decode = self.decoder(hidden_decode)\n",
    "#         print(hidden_decode.shape)\n",
    "        mean, log_sigma = hidden_decode[:, : ,:1],hidden_decode[:, :, 1:] \n",
    "        \n",
    "        #clamp sigmad\n",
    "        sigma = self.min_std + (1 - self.min_std) * F.softplus(log_sigma)\n",
    "        \n",
    "        dist = torch.distributions.Normal(mean,sigma)\n",
    "        \n",
    "        return dist, mean, sigma"
   ]
  },
  {
   "cell_type": "code",
   "execution_count": 307,
   "id": "581529e6",
   "metadata": {},
   "outputs": [
    {
     "data": {
      "text/plain": [
       "[123, 123, 123, 123, 2]"
      ]
     },
     "execution_count": 307,
     "metadata": {},
     "output_type": "execute_result"
    }
   ],
   "source": [
    "[123]*4 + [2]"
   ]
  },
  {
   "cell_type": "code",
   "execution_count": 308,
   "id": "artificial-sucking",
   "metadata": {},
   "outputs": [],
   "source": [
    "class LatentModel(nn.Module):\n",
    "    def __init__(self,\n",
    "               x_dim,\n",
    "               y_dim,\n",
    "               hidden_dim = 32,\n",
    "               latent_dim = 32,\n",
    "               latent_self_attn_type = 'dot',\n",
    "               det_self_attn_type = 'dot',\n",
    "               det_cross_attn_type = 'multihead',\n",
    "               n_multiheads = 8,\n",
    "               n_lat_enc_layer = 2,\n",
    "               n_det_enc_layer = 2,\n",
    "               n_decoder_layer = 2,\n",
    "               rep ='mlp',\n",
    "               use_deterministic_enc = False,\n",
    "               min_std = 0.01,\n",
    "               p_drop = 0,\n",
    "               isnorm = True,\n",
    "               p_attn_drop = 0,\n",
    "               attn_layers = 2,\n",
    "               use_self_attn = False,\n",
    "               context_in_target = True\n",
    "                ):\n",
    "        \n",
    "        super().__init__()\n",
    "        self.laten_encoder = LatentEncoder(x_dim+y_dim,\n",
    "                                           x_dim,\n",
    "                                           hidden_dim=hidden_dim,\n",
    "                                           latent_dim=latent_dim,\n",
    "                                           self_attn_type=latent_self_attn_type,\n",
    "                                           encoder_layer=n_lat_enc_layer,\n",
    "                                           n_multiheads = n_multiheads,\n",
    "                                           min_std=min_std,\n",
    "                                           isnorm = isnorm,\n",
    "                                           p_encoder=p_drop,\n",
    "                                           p_attn=p_attn_drop,\n",
    "                                           rep = 'identity',\n",
    "                                           use_self_attn=use_self_attn,\n",
    "                                           attn_layers=attn_layers \n",
    "                                          )\n",
    "        self.deterministic_encoder = DeterministicEncoder(x_dim+y_dim,\n",
    "                                                          x_dim,\n",
    "                                                          isnorm = isnorm,\n",
    "                                                          hidden_dim=hidden_dim,\n",
    "                                                          n_encoder_layer=n_det_enc_layer,\n",
    "                                                          rep=rep,\n",
    "                                                          self_attn_type=det_self_attn_type,\n",
    "                                                          cross_attn_type=det_cross_attn_type,\n",
    "                                                          p_encoder=p_drop,\n",
    "                                                          p_attention=p_attn_drop,\n",
    "                                                          attn_layers=attn_layers,\n",
    "                                                          use_self_attn=use_self_attn,\n",
    "                                                          n_multiheads = n_multiheads\n",
    "                                                         )\n",
    "        self.decoder = Decoder(x_dim,\n",
    "                              y_dim,\n",
    "                              hidden_dim  = hidden_dim,\n",
    "                              latent_dim=latent_dim,\n",
    "                              n_decoder_layer=n_decoder_layer,\n",
    "                              use_deterministic_path=use_deterministic_enc,\n",
    "                              min_std=min_std,\n",
    "                              isnorm=isnorm,\n",
    "                              dropout_p=p_drop\n",
    "                              )\n",
    "        self.use_deterministic_enc = use_deterministic_enc\n",
    "        self.context_in_target = context_in_target\n",
    "        \n",
    "        \n",
    "    def forward(self, c_x, c_y, t_x, t_y = None, training = False):\n",
    "        dist_prior = self.laten_encoder(c_x, c_y)\n",
    "\n",
    "        if t_y is not None:\n",
    "            dist_posterior = self.laten_encoder(t_x, t_y)\n",
    "            z = dist_posterior.sample() #(B, ld)\n",
    "#             print(\"z\",z.shape)\n",
    "        else:\n",
    "            z = dist_prior.sample() #(B, ld)\n",
    "            \n",
    "        n_target = t_x.shape[1]\n",
    "        z = z.unsqueeze(1).repeat(1, n_target,1) #(B, n_target, 1)\n",
    "        \n",
    "        \n",
    "        \n",
    "        if self.use_deterministic_enc:\n",
    "            r = self.deterministic_encoder(c_x, c_y, t_x) #(B, n_target=m, H)\n",
    "#             print(\"r\",r.shape)\n",
    "            representation = torch.cat([r, z], axis = -1) #(B, ld+hd)\n",
    "        else:\n",
    "            representation = z\n",
    "#         print(representation.shape)\n",
    "            \n",
    "        dist, μ, σ = self.decoder(representation, t_x)\n",
    "#         print(μ.shape, σ.shape)\n",
    "        #at test time, target y is not Known so we return None\n",
    "        if t_y is not None:\n",
    "#             print(t_y.shape)\n",
    "            log_p = dist.log_prob(t_y) #(B, m, 1)\n",
    "            \n",
    "            kl_loss = torch.distributions.kl_divergence(dist_posterior, dist_prior).sum(dim = -1, keepdim = True)\n",
    "#             print(\"kl\",kl_loss.shape)\n",
    "            kl_loss = torch.tile(kl_loss, [1, n_target])[:,:, None]\n",
    "\n",
    "\n",
    "#             kl_loss = kl_loss.expand(log_p.shape)\n",
    "#             kl_loss = torch.tile(kl_loss, [1, n_target])\n",
    "#             print(\"kl loss\", kl_loss.shape)\n",
    "            loss  = -(torch.mean(log_p - kl_loss/n_target))\n",
    "#             print(\"kl loss =\",  loss)\n",
    "            mse_loss = F.mse_loss(dist.loc, t_y, reduction = 'none')[:,:c_x.size(1)].mean()\n",
    "#             mse_loss = mean_squared_error(inv_boxcox(dist.loc.detach().numpy().flatten(), lambda_), t_y.detach().numpy().flatten())\n",
    "        else:\n",
    "            kl_loss = None\n",
    "            log_p = None\n",
    "            mse_loss = None\n",
    "            loss = None\n",
    "            \n",
    "        y_pred =  dist.loc\n",
    "            \n",
    "        return y_pred,  dict(loss = loss, loss_p = log_p, loss_kl = kl_loss, mse_loss = mse_loss), dist\n",
    "\n"
   ]
  },
  {
   "cell_type": "code",
   "execution_count": 309,
   "id": "fc6f7e9a",
   "metadata": {},
   "outputs": [],
   "source": [
    "# import sklearn\n",
    "from sklearn.metrics import mean_squared_error"
   ]
  },
  {
   "cell_type": "markdown",
   "id": "brilliant-westminster",
   "metadata": {},
   "source": [
    "## Data loading in torch.Dataloader"
   ]
  },
  {
   "cell_type": "code",
   "execution_count": null,
   "id": "89b1e643",
   "metadata": {},
   "outputs": [],
   "source": []
  },
  {
   "cell_type": "code",
   "execution_count": null,
   "id": "residential-lingerie",
   "metadata": {},
   "outputs": [],
   "source": []
  },
  {
   "cell_type": "code",
   "execution_count": 310,
   "id": "injured-portrait",
   "metadata": {},
   "outputs": [],
   "source": [
    "class NutrientsDataset(Dataset):\n",
    "    def __init__(self, df, num_context=40, num_extra_target=10):\n",
    "        self.df = df\n",
    "        self.num_context = num_context\n",
    "        self.num_extra_target = num_extra_target\n",
    "\n",
    "    def get_rows(self, i):\n",
    "        rows = self.df.iloc[i : i + (self.num_context + self.num_extra_target)].copy()\n",
    "        x = rows.iloc[:,1:].copy()\n",
    "        y = rows.iloc[:,:1].copy()\n",
    "        return x, y\n",
    "\n",
    "\n",
    "    def __getitem__(self, i):\n",
    "        x, y = self.get_rows(i)\n",
    "#         print(x.shape, y.shape)\n",
    "        return x.values, y.values\n",
    "        \n",
    "    def __len__(self):\n",
    "        return len(self.df) - (self.num_context + self.num_extra_target)"
   ]
  },
  {
   "cell_type": "code",
   "execution_count": 311,
   "id": "expensive-jackson",
   "metadata": {},
   "outputs": [],
   "source": [
    "def npsample_batch(x, y, size=None, sort=False):\n",
    "    \n",
    "    \"\"\"Sample from numpy arrays along 2nd dim.\"\"\"\n",
    "    inds = np.random.choice(range(x.shape[1]), size=size, replace=False)\n",
    "    return x[:, inds], y[:, inds]\n",
    "\n",
    "def collate_fns(max_num_context, max_num_extra_target, sample, sort=True, context_in_target=True):\n",
    "    def collate_fn(batch, sample=sample):\n",
    "        x = np.stack([x for x, y in batch], 0)\n",
    "        y = np.stack([y for x, y in batch], 0)\n",
    "\n",
    "        # Sample a subset of random size\n",
    "        num_context = np.random.randint(50, max_num_context)\n",
    "        num_extra_target = np.random.randint(4, max_num_extra_target)\n",
    "\n",
    "        x = torch.from_numpy(x).float()\n",
    "        y = torch.from_numpy(y).float()\n",
    "\n",
    "        \n",
    "        x_context = x[:, :max_num_context]\n",
    "        y_context = y[:, :max_num_context]\n",
    "    \n",
    "        x_target_extra = x[:, max_num_context:]\n",
    "        y_target_extra = y[:, max_num_context:]\n",
    "        \n",
    "        if sample:\n",
    "\n",
    "            x_context, y_context = npsample_batch(\n",
    "                x_context, y_context, size=num_context\n",
    "            )\n",
    "\n",
    "            x_target_extra, y_target_extra = npsample_batch(\n",
    "                x_target_extra, y_target_extra, size=num_extra_target, sort=sort\n",
    "            )\n",
    "\n",
    "        # do we want to compute loss over context+target_extra, or focus in on only target_extra?\n",
    "        if context_in_target:\n",
    "            x_target = torch.cat([x_context, x_target_extra], 1)\n",
    "            y_target = torch.cat([y_context, y_target_extra], 1)\n",
    "        else:\n",
    "            x_target = x_target_extra\n",
    "            y_target = y_target_extra\n",
    "\n",
    "        \n",
    "        return x_context, y_context, x_target, y_target\n",
    "\n",
    "    return collate_fn"
   ]
  },
  {
   "cell_type": "code",
   "execution_count": 312,
   "id": "large-giant",
   "metadata": {},
   "outputs": [],
   "source": [
    "# data_train.head()"
   ]
  },
  {
   "cell_type": "code",
   "execution_count": 313,
   "id": "stock-train",
   "metadata": {},
   "outputs": [],
   "source": [
    "\n",
    "df_train = data_train.copy()\n",
    "df_test = data_test.copy()\n",
    "# df_train= (df_train - norm_mean)/norm_std\n",
    "# df_test = (df_test - norm_mean)/norm_std\n",
    "\n",
    "hparams = dict(num_context = 80,\n",
    "               num_extra_target = 18,\n",
    "               batch_size = 32,\n",
    "               context_in_target = False)\n",
    "train_df = NutrientsDataset(df_train,hparams['num_context'],hparams['num_extra_target'])\n",
    "\n",
    "train_loader = DataLoader(train_df,\n",
    "                          batch_size=hparams['batch_size'],\n",
    "                         shuffle = True,\n",
    "                         collate_fn=collate_fns(\n",
    "                             hparams['num_context'],hparams['num_extra_target'], True, hparams['context_in_target']))"
   ]
  },
  {
   "cell_type": "code",
   "execution_count": 314,
   "id": "perfect-franklin",
   "metadata": {
    "scrolled": true
   },
   "outputs": [],
   "source": [
    "#eval loss\n",
    "def validation(data_train, data_test, do_eval=True):\n",
    "    \"\"\"Run model on test/val data\"\"\"\n",
    "    if do_eval:\n",
    "        Regressor.eval()\n",
    "    with torch.no_grad():\n",
    "        target_x, target_y = data_test.iloc[:,1:], data_test.iloc[:,:1]\n",
    "        context_x, context_y = data_train.iloc[:,1:], data_train.iloc[:,:1]\n",
    "#         print(context_x.shape, context_y.shape)\n",
    "\n",
    "        context_x = torch.from_numpy(context_x.values).float()[None, :].to(device)\n",
    "        context_y = torch.from_numpy(context_y.values).float()[None, :].to(device)\n",
    "        target_x = torch.from_numpy(target_x.values).float()[None, :].to(device)\n",
    "        target_y = torch.from_numpy(target_y.values).float()[None, :].to(device)\n",
    "#         print(context_x.shape, context_y.shape, target_x.shape, target_y.shape)\n",
    "        y_pred, losses, extra = Regressor.forward(context_x, context_y, target_x, target_y, training = False)\n",
    "#         y_pred = \n",
    "        yr=(target_y-y_pred)[0].detach().cpu().numpy()\n",
    "        r2 = r2_score(target_y.detach().cpu().numpy().flatten(), y_pred.detach().cpu().numpy().flatten())\n",
    "#     print(yr)\n",
    "        return yr, y_pred, r2, losses, extra "
   ]
  },
  {
   "cell_type": "code",
   "execution_count": 315,
   "id": "lesbian-proceeding",
   "metadata": {},
   "outputs": [],
   "source": [
    "class EarlyStopping:\n",
    "    \"\"\"Early stops the training if validation loss doesn't improve after a given patience.\"\"\"\n",
    "    def __init__(self, patience=7, verbose=False, delta=0):\n",
    "        \"\"\"\n",
    "        Args:\n",
    "            patience (int): How long to wait after last time validation loss improved.\n",
    "                            Default: 7\n",
    "            verbose (bool): If True, prints a message for each validation loss improvement. \n",
    "                            Default: False\n",
    "            delta (float): Minimum change in the monitored quantity to qualify as an improvement.\n",
    "                            Default: 0\n",
    "        \"\"\"\n",
    "        self.patience = patience\n",
    "        self.verbose = verbose\n",
    "        self.counter = 0\n",
    "        self.best_score = None\n",
    "        self.early_stop = False\n",
    "        self.val_loss_min = np.Inf\n",
    "        self.delta = delta\n",
    "\n",
    "    def __call__(self, val_loss, model):\n",
    "\n",
    "        score = -val_loss\n",
    "\n",
    "        if self.best_score is None:\n",
    "            self.best_score = score\n",
    "            self.save_checkpoint(val_loss, model)\n",
    "        elif score < self.best_score + self.delta:\n",
    "            self.counter += 1\n",
    "            print(f'EarlyStopping counter: {self.counter} out of {self.patience}')\n",
    "            if self.counter >= self.patience:\n",
    "                self.early_stop = True\n",
    "        else:\n",
    "            self.best_score = score\n",
    "            self.save_checkpoint(val_loss, model)\n",
    "            self.counter = 0\n",
    "\n",
    "    def save_checkpoint(self, val_loss, model):\n",
    "        '''Saves model when validation loss decrease.'''\n",
    "        if self.verbose:\n",
    "            print(f'Validation loss decreased ({self.val_loss_min:.6f} --> {val_loss:.6f}).  Saving model ...')\n",
    "        torch.save(model.state_dict(), 'checkpoint2.pt')\n",
    "        self.val_loss_min = val_loss"
   ]
  },
  {
   "cell_type": "markdown",
   "id": "thousand-philadelphia",
   "metadata": {},
   "source": [
    "## Model Training"
   ]
  },
  {
   "cell_type": "code",
   "execution_count": 316,
   "id": "e8106fc9",
   "metadata": {},
   "outputs": [],
   "source": [
    "# data.head()"
   ]
  },
  {
   "cell_type": "code",
   "execution_count": 317,
   "id": "digital-orchestra",
   "metadata": {},
   "outputs": [],
   "source": [
    "device = torch.device(\"cpu\")\n",
    "torch.cuda.empty_cache()\n",
    "    "
   ]
  },
  {
   "cell_type": "code",
   "execution_count": 320,
   "id": "motivated-browser",
   "metadata": {},
   "outputs": [],
   "source": [
    "Regressor = LatentModel(2,len(data.columns)-2,\n",
    "                       p_drop = 0.0,\n",
    "                        p_attn_drop=0.5,\n",
    "                        hidden_dim = 128,\n",
    "                        latent_dim = 128,\n",
    "                       n_decoder_layer = 4,\n",
    "                        n_lat_enc_layer=4,\n",
    "                        n_det_enc_layer=4,\n",
    "                        n_multiheads = 1,\n",
    "                        isnorm = True,\n",
    "                        use_self_attn=True,\n",
    "                        use_deterministic_enc=True,\n",
    "                        context_in_target= False\n",
    "                       )"
   ]
  },
  {
   "cell_type": "code",
   "execution_count": 321,
   "id": "dangerous-rotation",
   "metadata": {
    "scrolled": true
   },
   "outputs": [],
   "source": [
    "opt = torch.optim.Adam(Regressor.parameters(), lr = 1e-2, weight_decay = 1e-4)\n",
    "early_stopping = EarlyStopping(patience=20, verbose=True)\n",
    "lr_scheduler = torch.optim.lr_scheduler.StepLR(opt,\n",
    "                                               step_size=2,\n",
    "                                               gamma=0.9)\n",
    "Regressor = Regressor.to(device)"
   ]
  },
  {
   "cell_type": "code",
   "execution_count": 322,
   "id": "iraqi-married",
   "metadata": {
    "scrolled": true
   },
   "outputs": [
    {
     "data": {
      "application/vnd.jupyter.widget-view+json": {
       "model_id": "5952687a0ce242cd8d14dc77fb79017e",
       "version_major": 2,
       "version_minor": 0
      },
      "text/plain": [
       "  0%|          | 0/577 [00:00<?, ?it/s]"
      ]
     },
     "metadata": {},
     "output_type": "display_data"
    },
    {
     "name": "stdout",
     "output_type": "stream",
     "text": [
      "0\n",
      "ELBO train_loss 0.6846461314675713\n",
      "RMSE train_loss 4.437065305943583\n",
      "ELBO val_loss 0.6068805\n",
      "RMSE val_loss 0.4369418\n",
      "MAE val_loss 0.3528329\n",
      "R2 score -0.10764592438388831\n",
      "-----------------------------------------------------------------------\n",
      "Validation loss decreased (inf --> 0.352833).  Saving model ...\n"
     ]
    },
    {
     "data": {
      "application/vnd.jupyter.widget-view+json": {
       "model_id": "1a35520f120441209252f1abe49827c5",
       "version_major": 2,
       "version_minor": 0
      },
      "text/plain": [
       "  0%|          | 0/577 [00:00<?, ?it/s]"
      ]
     },
     "metadata": {},
     "output_type": "display_data"
    },
    {
     "name": "stdout",
     "output_type": "stream",
     "text": [
      "1\n",
      "ELBO train_loss 0.3440817310708854\n",
      "RMSE train_loss 0.36650353166386096\n",
      "ELBO val_loss 0.7127657\n",
      "RMSE val_loss 0.46818438\n",
      "MAE val_loss 0.38157877\n",
      "R2 score -0.27170854210838846\n",
      "-----------------------------------------------------------------------\n",
      "EarlyStopping counter: 1 out of 20\n"
     ]
    },
    {
     "data": {
      "application/vnd.jupyter.widget-view+json": {
       "model_id": "214908ca77144629bb0d866e778b2b62",
       "version_major": 2,
       "version_minor": 0
      },
      "text/plain": [
       "  0%|          | 0/577 [00:00<?, ?it/s]"
      ]
     },
     "metadata": {},
     "output_type": "display_data"
    },
    {
     "name": "stdout",
     "output_type": "stream",
     "text": [
      "2\n",
      "ELBO train_loss 0.3096276538985647\n",
      "RMSE train_loss 0.35943297911310534\n",
      "ELBO val_loss 0.52240217\n",
      "RMSE val_loss 0.40453056\n",
      "MAE val_loss 0.31114954\n",
      "R2 score 0.05058434592812655\n",
      "-----------------------------------------------------------------------\n",
      "Validation loss decreased (0.352833 --> 0.311150).  Saving model ...\n"
     ]
    },
    {
     "data": {
      "application/vnd.jupyter.widget-view+json": {
       "model_id": "eb6dc78eb8eb4680b9783399c97b73a3",
       "version_major": 2,
       "version_minor": 0
      },
      "text/plain": [
       "  0%|          | 0/577 [00:00<?, ?it/s]"
      ]
     },
     "metadata": {},
     "output_type": "display_data"
    },
    {
     "name": "stdout",
     "output_type": "stream",
     "text": [
      "3\n",
      "ELBO train_loss 0.3009003839056868\n",
      "RMSE train_loss 0.35794440012907314\n",
      "ELBO val_loss 0.7648941\n",
      "RMSE val_loss 5.29226\n",
      "MAE val_loss 1.5456272\n",
      "R2 score -161.4935448807784\n",
      "-----------------------------------------------------------------------\n",
      "EarlyStopping counter: 1 out of 20\n"
     ]
    },
    {
     "data": {
      "application/vnd.jupyter.widget-view+json": {
       "model_id": "b9d9acdac1d04f48a8b76c9bda042d8b",
       "version_major": 2,
       "version_minor": 0
      },
      "text/plain": [
       "  0%|          | 0/577 [00:00<?, ?it/s]"
      ]
     },
     "metadata": {},
     "output_type": "display_data"
    },
    {
     "name": "stdout",
     "output_type": "stream",
     "text": [
      "4\n",
      "ELBO train_loss 0.29456342250573575\n",
      "RMSE train_loss 0.35729199072919104\n",
      "ELBO val_loss 0.35850337\n",
      "RMSE val_loss 0.36388466\n",
      "MAE val_loss 0.271607\n",
      "R2 score 0.23178769478063088\n",
      "-----------------------------------------------------------------------\n",
      "Validation loss decreased (0.311150 --> 0.271607).  Saving model ...\n"
     ]
    },
    {
     "data": {
      "application/vnd.jupyter.widget-view+json": {
       "model_id": "4ffc4b0071824a82a68bbbd6aa7ed91d",
       "version_major": 2,
       "version_minor": 0
      },
      "text/plain": [
       "  0%|          | 0/577 [00:00<?, ?it/s]"
      ]
     },
     "metadata": {},
     "output_type": "display_data"
    },
    {
     "name": "stdout",
     "output_type": "stream",
     "text": [
      "5\n",
      "ELBO train_loss 0.290067468658477\n",
      "RMSE train_loss 0.35666976277276585\n",
      "ELBO val_loss 0.83164924\n",
      "RMSE val_loss 0.38454515\n",
      "MAE val_loss 0.29094324\n",
      "R2 score 0.14207687765148802\n",
      "-----------------------------------------------------------------------\n",
      "EarlyStopping counter: 1 out of 20\n"
     ]
    },
    {
     "data": {
      "application/vnd.jupyter.widget-view+json": {
       "model_id": "9c7f396f9c264e3abf12a6b6b6276fe2",
       "version_major": 2,
       "version_minor": 0
      },
      "text/plain": [
       "  0%|          | 0/577 [00:00<?, ?it/s]"
      ]
     },
     "metadata": {},
     "output_type": "display_data"
    },
    {
     "name": "stdout",
     "output_type": "stream",
     "text": [
      "6\n",
      "ELBO train_loss 0.28129174646822996\n",
      "RMSE train_loss 0.35526302879863747\n",
      "ELBO val_loss 0.37738872\n",
      "RMSE val_loss 0.37278688\n",
      "MAE val_loss 0.2750426\n",
      "R2 score 0.19374021992998403\n",
      "-----------------------------------------------------------------------\n",
      "EarlyStopping counter: 2 out of 20\n"
     ]
    },
    {
     "data": {
      "application/vnd.jupyter.widget-view+json": {
       "model_id": "f85755ae23c44acabf13b39371820691",
       "version_major": 2,
       "version_minor": 0
      },
      "text/plain": [
       "  0%|          | 0/577 [00:00<?, ?it/s]"
      ]
     },
     "metadata": {},
     "output_type": "display_data"
    },
    {
     "name": "stdout",
     "output_type": "stream",
     "text": [
      "7\n",
      "ELBO train_loss 0.24328514547498842\n",
      "RMSE train_loss 0.3460574613223821\n",
      "ELBO val_loss 0.32005405\n",
      "RMSE val_loss 0.36093137\n",
      "MAE val_loss 0.26060632\n",
      "R2 score 0.24420687097327176\n",
      "-----------------------------------------------------------------------\n",
      "Validation loss decreased (0.271607 --> 0.260606).  Saving model ...\n"
     ]
    },
    {
     "data": {
      "application/vnd.jupyter.widget-view+json": {
       "model_id": "a51519f5c5874aecbce88e71bfee00f6",
       "version_major": 2,
       "version_minor": 0
      },
      "text/plain": [
       "  0%|          | 0/577 [00:00<?, ?it/s]"
      ]
     },
     "metadata": {},
     "output_type": "display_data"
    },
    {
     "name": "stdout",
     "output_type": "stream",
     "text": [
      "8\n",
      "ELBO train_loss 0.23243615736271314\n",
      "RMSE train_loss 0.3430819287611698\n",
      "ELBO val_loss 0.35738474\n",
      "RMSE val_loss 0.36113775\n",
      "MAE val_loss 0.26320624\n",
      "R2 score 0.2433421254809811\n",
      "-----------------------------------------------------------------------\n",
      "EarlyStopping counter: 1 out of 20\n"
     ]
    },
    {
     "data": {
      "application/vnd.jupyter.widget-view+json": {
       "model_id": "fb19de63fd724d01aeaba304d0ab47c3",
       "version_major": 2,
       "version_minor": 0
      },
      "text/plain": [
       "  0%|          | 0/577 [00:00<?, ?it/s]"
      ]
     },
     "metadata": {},
     "output_type": "display_data"
    },
    {
     "name": "stdout",
     "output_type": "stream",
     "text": [
      "9\n",
      "ELBO train_loss 0.22498928131842325\n",
      "RMSE train_loss 0.34191990477238837\n",
      "ELBO val_loss 0.37041593\n",
      "RMSE val_loss 0.3632399\n",
      "MAE val_loss 0.26024187\n",
      "R2 score 0.2345076707188105\n",
      "-----------------------------------------------------------------------\n",
      "Validation loss decreased (0.260606 --> 0.260242).  Saving model ...\n"
     ]
    },
    {
     "data": {
      "application/vnd.jupyter.widget-view+json": {
       "model_id": "5f7d8dd3c301442bafd850ddc9956739",
       "version_major": 2,
       "version_minor": 0
      },
      "text/plain": [
       "  0%|          | 0/577 [00:00<?, ?it/s]"
      ]
     },
     "metadata": {},
     "output_type": "display_data"
    },
    {
     "name": "stdout",
     "output_type": "stream",
     "text": [
      "10\n",
      "ELBO train_loss 0.2220603228648366\n",
      "RMSE train_loss 0.3410563058914895\n",
      "ELBO val_loss 0.395162\n",
      "RMSE val_loss 0.3702079\n",
      "MAE val_loss 0.27378544\n",
      "R2 score 0.20485731882847336\n",
      "-----------------------------------------------------------------------\n",
      "EarlyStopping counter: 1 out of 20\n"
     ]
    },
    {
     "data": {
      "application/vnd.jupyter.widget-view+json": {
       "model_id": "6d0a9f6dc9cd4536873d69919cca093f",
       "version_major": 2,
       "version_minor": 0
      },
      "text/plain": [
       "  0%|          | 0/577 [00:00<?, ?it/s]"
      ]
     },
     "metadata": {},
     "output_type": "display_data"
    },
    {
     "name": "stdout",
     "output_type": "stream",
     "text": [
      "11\n",
      "ELBO train_loss 0.22036327661839886\n",
      "RMSE train_loss 0.3409860253970665\n",
      "ELBO val_loss 0.47211802\n",
      "RMSE val_loss 0.37291217\n",
      "MAE val_loss 0.267335\n",
      "R2 score 0.19319820812342559\n",
      "-----------------------------------------------------------------------\n",
      "EarlyStopping counter: 2 out of 20\n"
     ]
    },
    {
     "data": {
      "application/vnd.jupyter.widget-view+json": {
       "model_id": "315ea41e11354f6d913625c758410c9a",
       "version_major": 2,
       "version_minor": 0
      },
      "text/plain": [
       "  0%|          | 0/577 [00:00<?, ?it/s]"
      ]
     },
     "metadata": {},
     "output_type": "display_data"
    },
    {
     "name": "stdout",
     "output_type": "stream",
     "text": [
      "12\n",
      "ELBO train_loss 0.21764565251470644\n",
      "RMSE train_loss 0.34024714883190227\n",
      "ELBO val_loss 0.32526785\n",
      "RMSE val_loss 0.35984418\n",
      "MAE val_loss 0.25917384\n",
      "R2 score 0.24875314669635806\n",
      "-----------------------------------------------------------------------\n",
      "Validation loss decreased (0.260242 --> 0.259174).  Saving model ...\n"
     ]
    },
    {
     "data": {
      "application/vnd.jupyter.widget-view+json": {
       "model_id": "5e4df9c9451d43e4927aa6a2219a5e3c",
       "version_major": 2,
       "version_minor": 0
      },
      "text/plain": [
       "  0%|          | 0/577 [00:00<?, ?it/s]"
      ]
     },
     "metadata": {},
     "output_type": "display_data"
    },
    {
     "name": "stdout",
     "output_type": "stream",
     "text": [
      "13\n",
      "ELBO train_loss 0.21237136297044143\n",
      "RMSE train_loss 0.33901146842491453\n",
      "ELBO val_loss 0.35930055\n",
      "RMSE val_loss 0.3685333\n",
      "MAE val_loss 0.2721437\n",
      "R2 score 0.2120345331121012\n",
      "-----------------------------------------------------------------------\n",
      "EarlyStopping counter: 1 out of 20\n"
     ]
    },
    {
     "data": {
      "application/vnd.jupyter.widget-view+json": {
       "model_id": "a88037cc743748deba347c4ab5dd9595",
       "version_major": 2,
       "version_minor": 0
      },
      "text/plain": [
       "  0%|          | 0/577 [00:00<?, ?it/s]"
      ]
     },
     "metadata": {},
     "output_type": "display_data"
    },
    {
     "name": "stdout",
     "output_type": "stream",
     "text": [
      "14\n",
      "ELBO train_loss 0.2152466521545134\n",
      "RMSE train_loss 0.3396288075713368\n",
      "ELBO val_loss 0.35948223\n",
      "RMSE val_loss 0.36812896\n",
      "MAE val_loss 0.2715804\n",
      "R2 score 0.21376249783037427\n",
      "-----------------------------------------------------------------------\n",
      "EarlyStopping counter: 2 out of 20\n"
     ]
    },
    {
     "data": {
      "application/vnd.jupyter.widget-view+json": {
       "model_id": "713ee78c61d34116b9b1fbd5f1ce8b42",
       "version_major": 2,
       "version_minor": 0
      },
      "text/plain": [
       "  0%|          | 0/577 [00:00<?, ?it/s]"
      ]
     },
     "metadata": {},
     "output_type": "display_data"
    },
    {
     "name": "stdout",
     "output_type": "stream",
     "text": [
      "15\n",
      "ELBO train_loss 0.21015379123350983\n",
      "RMSE train_loss 0.3390605999229997\n",
      "ELBO val_loss 0.34881276\n",
      "RMSE val_loss 0.36099666\n",
      "MAE val_loss 0.2592941\n",
      "R2 score 0.24393335830176566\n",
      "-----------------------------------------------------------------------\n",
      "EarlyStopping counter: 3 out of 20\n"
     ]
    },
    {
     "data": {
      "application/vnd.jupyter.widget-view+json": {
       "model_id": "c43571ac4d8f422ebda7f1da04dda6e4",
       "version_major": 2,
       "version_minor": 0
      },
      "text/plain": [
       "  0%|          | 0/577 [00:00<?, ?it/s]"
      ]
     },
     "metadata": {},
     "output_type": "display_data"
    },
    {
     "name": "stdout",
     "output_type": "stream",
     "text": [
      "16\n",
      "ELBO train_loss 0.21193976634451586\n",
      "RMSE train_loss 0.33925731896619565\n",
      "ELBO val_loss 0.33130625\n",
      "RMSE val_loss 0.35845503\n",
      "MAE val_loss 0.26229948\n",
      "R2 score 0.25454211069270694\n",
      "-----------------------------------------------------------------------\n",
      "EarlyStopping counter: 4 out of 20\n"
     ]
    },
    {
     "data": {
      "application/vnd.jupyter.widget-view+json": {
       "model_id": "99a58cc414944e2e831fc23a792ecd35",
       "version_major": 2,
       "version_minor": 0
      },
      "text/plain": [
       "  0%|          | 0/577 [00:00<?, ?it/s]"
      ]
     },
     "metadata": {},
     "output_type": "display_data"
    },
    {
     "name": "stdout",
     "output_type": "stream",
     "text": [
      "17\n",
      "ELBO train_loss 0.21024506106533666\n",
      "RMSE train_loss 0.33856553655223875\n",
      "ELBO val_loss 0.3477358\n",
      "RMSE val_loss 0.36737224\n",
      "MAE val_loss 0.2673098\n",
      "R2 score 0.2169915752188626\n",
      "-----------------------------------------------------------------------\n",
      "EarlyStopping counter: 5 out of 20\n"
     ]
    },
    {
     "data": {
      "application/vnd.jupyter.widget-view+json": {
       "model_id": "dbdfa0ce87964d98b0844bcdcd4a69d5",
       "version_major": 2,
       "version_minor": 0
      },
      "text/plain": [
       "  0%|          | 0/577 [00:00<?, ?it/s]"
      ]
     },
     "metadata": {},
     "output_type": "display_data"
    },
    {
     "name": "stdout",
     "output_type": "stream",
     "text": [
      "18\n",
      "ELBO train_loss 0.20870075254754342\n",
      "RMSE train_loss 0.33861224326439926\n",
      "ELBO val_loss 0.34482217\n",
      "RMSE val_loss 0.36581028\n",
      "MAE val_loss 0.27042258\n",
      "R2 score 0.22363571892938416\n",
      "-----------------------------------------------------------------------\n",
      "EarlyStopping counter: 6 out of 20\n",
      "reducing lr 1.00e-02 to 1.00e-03\n"
     ]
    },
    {
     "data": {
      "application/vnd.jupyter.widget-view+json": {
       "model_id": "6151da9e3588463a85394fbf3424c8af",
       "version_major": 2,
       "version_minor": 0
      },
      "text/plain": [
       "  0%|          | 0/577 [00:00<?, ?it/s]"
      ]
     },
     "metadata": {},
     "output_type": "display_data"
    },
    {
     "name": "stdout",
     "output_type": "stream",
     "text": [
      "19\n",
      "ELBO train_loss 0.18591268868080665\n",
      "RMSE train_loss 0.33398794886974903\n",
      "ELBO val_loss 0.34168857\n",
      "RMSE val_loss 0.3622247\n",
      "MAE val_loss 0.26469326\n",
      "R2 score 0.2387805195107856\n",
      "-----------------------------------------------------------------------\n",
      "EarlyStopping counter: 7 out of 20\n"
     ]
    },
    {
     "data": {
      "application/vnd.jupyter.widget-view+json": {
       "model_id": "20b6608957a44f8f8470b08d75b5cd4e",
       "version_major": 2,
       "version_minor": 0
      },
      "text/plain": [
       "  0%|          | 0/577 [00:00<?, ?it/s]"
      ]
     },
     "metadata": {},
     "output_type": "display_data"
    },
    {
     "name": "stdout",
     "output_type": "stream",
     "text": [
      "20\n",
      "ELBO train_loss 0.17710729700672978\n",
      "RMSE train_loss 0.3321878625635007\n",
      "ELBO val_loss 0.35121334\n",
      "RMSE val_loss 0.36477932\n",
      "MAE val_loss 0.26616997\n",
      "R2 score 0.2280055476561842\n",
      "-----------------------------------------------------------------------\n",
      "EarlyStopping counter: 8 out of 20\n"
     ]
    },
    {
     "data": {
      "application/vnd.jupyter.widget-view+json": {
       "model_id": "f50be2fb6f2d44ec892c4669deef30c0",
       "version_major": 2,
       "version_minor": 0
      },
      "text/plain": [
       "  0%|          | 0/577 [00:00<?, ?it/s]"
      ]
     },
     "metadata": {},
     "output_type": "display_data"
    },
    {
     "name": "stdout",
     "output_type": "stream",
     "text": [
      "21\n",
      "ELBO train_loss 0.16511820773214772\n",
      "RMSE train_loss 0.3297485213084578\n",
      "ELBO val_loss 0.36637586\n",
      "RMSE val_loss 0.36631677\n",
      "MAE val_loss 0.26762322\n",
      "R2 score 0.22148427448926755\n",
      "-----------------------------------------------------------------------\n",
      "EarlyStopping counter: 9 out of 20\n"
     ]
    },
    {
     "data": {
      "application/vnd.jupyter.widget-view+json": {
       "model_id": "b863dd60c0bf4c3eacfb3e245dd14667",
       "version_major": 2,
       "version_minor": 0
      },
      "text/plain": [
       "  0%|          | 0/577 [00:00<?, ?it/s]"
      ]
     },
     "metadata": {},
     "output_type": "display_data"
    },
    {
     "name": "stdout",
     "output_type": "stream",
     "text": [
      "22\n",
      "ELBO train_loss 0.15434858489594386\n",
      "RMSE train_loss 0.3275468813957553\n",
      "ELBO val_loss 0.3425687\n",
      "RMSE val_loss 0.3631687\n",
      "MAE val_loss 0.2651808\n",
      "R2 score 0.23480790839117527\n",
      "-----------------------------------------------------------------------\n",
      "EarlyStopping counter: 10 out of 20\n"
     ]
    },
    {
     "data": {
      "application/vnd.jupyter.widget-view+json": {
       "model_id": "5b768b9fb446460eb4b1aeed39889c1d",
       "version_major": 2,
       "version_minor": 0
      },
      "text/plain": [
       "  0%|          | 0/577 [00:00<?, ?it/s]"
      ]
     },
     "metadata": {},
     "output_type": "display_data"
    },
    {
     "name": "stdout",
     "output_type": "stream",
     "text": [
      "23\n",
      "ELBO train_loss 0.1446684990707701\n",
      "RMSE train_loss 0.3257323137075863\n",
      "ELBO val_loss 0.34868315\n",
      "RMSE val_loss 0.36027777\n",
      "MAE val_loss 0.26200253\n",
      "R2 score 0.2469415207863449\n",
      "-----------------------------------------------------------------------\n",
      "EarlyStopping counter: 11 out of 20\n"
     ]
    },
    {
     "data": {
      "application/vnd.jupyter.widget-view+json": {
       "model_id": "b23dd5cf19614f1cbc76ff2b2e2303b4",
       "version_major": 2,
       "version_minor": 0
      },
      "text/plain": [
       "  0%|          | 0/577 [00:00<?, ?it/s]"
      ]
     },
     "metadata": {},
     "output_type": "display_data"
    },
    {
     "name": "stdout",
     "output_type": "stream",
     "text": [
      "24\n",
      "ELBO train_loss 0.13596737494795508\n",
      "RMSE train_loss 0.3242439123171324\n",
      "ELBO val_loss 0.3484652\n",
      "RMSE val_loss 0.36200112\n",
      "MAE val_loss 0.26504603\n",
      "R2 score 0.2397199332394041\n",
      "-----------------------------------------------------------------------\n",
      "EarlyStopping counter: 12 out of 20\n"
     ]
    },
    {
     "data": {
      "application/vnd.jupyter.widget-view+json": {
       "model_id": "4ad6ee6322ca46a3a511a2ac6333027a",
       "version_major": 2,
       "version_minor": 0
      },
      "text/plain": [
       "  0%|          | 0/577 [00:00<?, ?it/s]"
      ]
     },
     "metadata": {},
     "output_type": "display_data"
    },
    {
     "name": "stdout",
     "output_type": "stream",
     "text": [
      "25\n",
      "ELBO train_loss 0.1285770053638749\n",
      "RMSE train_loss 0.3230233368794001\n",
      "ELBO val_loss 0.34775937\n",
      "RMSE val_loss 0.36013892\n",
      "MAE val_loss 0.26273665\n",
      "R2 score 0.24752191614929553\n",
      "-----------------------------------------------------------------------\n",
      "EarlyStopping counter: 13 out of 20\n"
     ]
    },
    {
     "data": {
      "application/vnd.jupyter.widget-view+json": {
       "model_id": "9e0d4e4561b941f095edfe13f9f987cb",
       "version_major": 2,
       "version_minor": 0
      },
      "text/plain": [
       "  0%|          | 0/577 [00:00<?, ?it/s]"
      ]
     },
     "metadata": {},
     "output_type": "display_data"
    },
    {
     "name": "stdout",
     "output_type": "stream",
     "text": [
      "26\n",
      "ELBO train_loss 0.1241130099728287\n",
      "RMSE train_loss 0.3220541758645382\n",
      "ELBO val_loss 0.35304978\n",
      "RMSE val_loss 0.36040512\n",
      "MAE val_loss 0.26411188\n",
      "R2 score 0.2464091935247823\n",
      "-----------------------------------------------------------------------\n",
      "EarlyStopping counter: 14 out of 20\n"
     ]
    },
    {
     "data": {
      "application/vnd.jupyter.widget-view+json": {
       "model_id": "21166f0b3cac4b7cae0e82e9f8f84450",
       "version_major": 2,
       "version_minor": 0
      },
      "text/plain": [
       "  0%|          | 0/577 [00:00<?, ?it/s]"
      ]
     },
     "metadata": {},
     "output_type": "display_data"
    },
    {
     "name": "stdout",
     "output_type": "stream",
     "text": [
      "27\n",
      "ELBO train_loss 0.11845210903248325\n",
      "RMSE train_loss 0.3218257401348293\n",
      "ELBO val_loss 0.34359777\n",
      "RMSE val_loss 0.35999843\n",
      "MAE val_loss 0.26238424\n",
      "R2 score 0.24810889114591095\n",
      "-----------------------------------------------------------------------\n",
      "EarlyStopping counter: 15 out of 20\n"
     ]
    },
    {
     "data": {
      "application/vnd.jupyter.widget-view+json": {
       "model_id": "7b6b1f78dfd44c609336e26f9b032fc3",
       "version_major": 2,
       "version_minor": 0
      },
      "text/plain": [
       "  0%|          | 0/577 [00:00<?, ?it/s]"
      ]
     },
     "metadata": {},
     "output_type": "display_data"
    },
    {
     "name": "stdout",
     "output_type": "stream",
     "text": [
      "28\n",
      "ELBO train_loss 0.11327461133718303\n",
      "RMSE train_loss 0.32091860109492226\n",
      "ELBO val_loss 0.35220462\n",
      "RMSE val_loss 0.35881016\n",
      "MAE val_loss 0.2606279\n",
      "R2 score 0.2530643226616687\n",
      "-----------------------------------------------------------------------\n",
      "EarlyStopping counter: 16 out of 20\n"
     ]
    },
    {
     "data": {
      "application/vnd.jupyter.widget-view+json": {
       "model_id": "700c4f8bd4bf401ab6d1bec2f545d989",
       "version_major": 2,
       "version_minor": 0
      },
      "text/plain": [
       "  0%|          | 0/577 [00:00<?, ?it/s]"
      ]
     },
     "metadata": {},
     "output_type": "display_data"
    },
    {
     "name": "stdout",
     "output_type": "stream",
     "text": [
      "29\n",
      "ELBO train_loss 0.1068991595263124\n",
      "RMSE train_loss 0.319774035992334\n",
      "ELBO val_loss 0.3770346\n",
      "RMSE val_loss 0.3578383\n",
      "MAE val_loss 0.26277274\n",
      "R2 score 0.25710521282778687\n",
      "-----------------------------------------------------------------------\n",
      "EarlyStopping counter: 17 out of 20\n"
     ]
    },
    {
     "data": {
      "application/vnd.jupyter.widget-view+json": {
       "model_id": "7d2d202b3ed14a708a935a6fad369ba8",
       "version_major": 2,
       "version_minor": 0
      },
      "text/plain": [
       "  0%|          | 0/577 [00:00<?, ?it/s]"
      ]
     },
     "metadata": {},
     "output_type": "display_data"
    },
    {
     "name": "stdout",
     "output_type": "stream",
     "text": [
      "30\n",
      "ELBO train_loss 0.10422771932892953\n",
      "RMSE train_loss 0.31900296573187925\n",
      "ELBO val_loss 0.3528411\n",
      "RMSE val_loss 0.3587393\n",
      "MAE val_loss 0.25990078\n",
      "R2 score 0.2533593519566607\n",
      "-----------------------------------------------------------------------\n",
      "EarlyStopping counter: 18 out of 20\n"
     ]
    },
    {
     "data": {
      "application/vnd.jupyter.widget-view+json": {
       "model_id": "779f7dfefc05428493be227f8aac5630",
       "version_major": 2,
       "version_minor": 0
      },
      "text/plain": [
       "  0%|          | 0/577 [00:00<?, ?it/s]"
      ]
     },
     "metadata": {},
     "output_type": "display_data"
    },
    {
     "name": "stdout",
     "output_type": "stream",
     "text": [
      "31\n",
      "ELBO train_loss 0.09798375456344757\n",
      "RMSE train_loss 0.3177478987440394\n",
      "ELBO val_loss 0.37066454\n",
      "RMSE val_loss 0.35768473\n",
      "MAE val_loss 0.26030397\n",
      "R2 score 0.25774265874761304\n",
      "-----------------------------------------------------------------------\n",
      "EarlyStopping counter: 19 out of 20\n"
     ]
    },
    {
     "data": {
      "application/vnd.jupyter.widget-view+json": {
       "model_id": "fc06f9a5ae1045378be694c0f42c9b05",
       "version_major": 2,
       "version_minor": 0
      },
      "text/plain": [
       "  0%|          | 0/577 [00:00<?, ?it/s]"
      ]
     },
     "metadata": {},
     "output_type": "display_data"
    },
    {
     "name": "stdout",
     "output_type": "stream",
     "text": [
      "32\n",
      "ELBO train_loss 0.09470857603026435\n",
      "RMSE train_loss 0.3175531932827569\n",
      "ELBO val_loss 0.37499818\n",
      "RMSE val_loss 0.35984153\n",
      "MAE val_loss 0.26257882\n",
      "R2 score 0.248764185999942\n",
      "-----------------------------------------------------------------------\n",
      "EarlyStopping counter: 20 out of 20\n",
      "Early stopping\n"
     ]
    }
   ],
   "source": [
    "from tqdm.auto import tqdm \n",
    "val_norm = data_test.shape[0]\n",
    "mse_loss_train = []\n",
    "mse_loss_eval = []\n",
    "elbo_loss_train  = []\n",
    "elbo_loss_eval = []\n",
    "mae_val_loss = []\n",
    "for epoch in range(100):\n",
    "    loss = 0 \n",
    "    mse_loss = 0\n",
    "    Regressor.train()\n",
    "    for batch in tqdm(train_loader):\n",
    "        context_x, context_y, target_x, target_y = batch\n",
    "#         print(context_x.shape, context_y.shape, target_x.shape)\n",
    "        cx =context_x.to(device)\n",
    "        cy = context_y.to(device)\n",
    "        tx = target_x.to(device)\n",
    "        ty = target_y.to(device)\n",
    "\n",
    "        Regressor.zero_grad()\n",
    "\n",
    "        y_pred, losses, extra = Regressor.forward(cx, cy, tx, ty, training=True)\n",
    "        losses['loss'].backward()\n",
    "        loss += losses['loss'].cpu().detach().numpy()\n",
    "        mse_loss+=losses['mse_loss'].cpu().detach().numpy()\n",
    "        opt.step()\n",
    "        \n",
    "    loss /= len(train_loader)\n",
    "    elbo_loss_train.append(loss)\n",
    "    mse_loss_train.append(mse_loss/len(train_loader))\n",
    "    print(epoch)\n",
    "    print('ELBO train_loss', loss)\n",
    "    print('RMSE train_loss', (mse_loss/len(train_loader))**0.5)\n",
    "    \n",
    "    yr, ypred, r2, losses_val, extra = validation(df_train, df_test)\n",
    "\n",
    "    mse_loss_val = losses_val['mse_loss'].cpu().detach().numpy()\n",
    "    mse_loss_eval.append(mse_loss_val)\n",
    "    elbo_loss_val = losses_val['loss'].cpu().detach().numpy() \n",
    "    val_loss = np.mean(np.abs(yr))\n",
    "\n",
    "    elbo_loss_eval.append(elbo_loss_val)\n",
    "    mae_val_loss.append(val_loss)\n",
    "    \n",
    "#     lr_scheduler.step()\n",
    "    print('ELBO val_loss', elbo_loss_val)\n",
    "    print('RMSE val_loss', mse_loss_val**0.5)\n",
    "    print('MAE val_loss', val_loss)\n",
    "    print('R2 score', r2)\n",
    "  \n",
    "    print(\"-----------------------------------------------------------------------\")\n",
    "\n",
    "    early_stopping(val_loss, Regressor)\n",
    "    if early_stopping.counter==6:\n",
    "        \n",
    "      lr=opt.state_dict()['param_groups'][0]['lr']\n",
    "      print('reducing lr {:2.2e} to {:2.2e}'.format(lr, lr/10))\n",
    "      opt = torch.optim.Adam(Regressor.parameters(), lr=lr/10)\n",
    "\n",
    "    if early_stopping.early_stop:\n",
    "        print(\"Early stopping\")\n",
    "        break\n"
   ]
  },
  {
   "cell_type": "code",
   "execution_count": null,
   "id": "d377c7de",
   "metadata": {},
   "outputs": [],
   "source": [
    "Regressor.load_state_dict(torch.load(\"./checkpoint2.pt\"))"
   ]
  },
  {
   "cell_type": "markdown",
   "id": "anonymous-robinson",
   "metadata": {},
   "source": [
    "# Model evaluation"
   ]
  },
  {
   "cell_type": "markdown",
   "id": "requested-accident",
   "metadata": {},
   "source": [
    "### Train vs val loss"
   ]
  },
  {
   "cell_type": "code",
   "execution_count": null,
   "id": "fitted-schema",
   "metadata": {},
   "outputs": [],
   "source": [
    "from sklearn.metrics import mean_absolute_error, mean_squared_error"
   ]
  },
  {
   "cell_type": "code",
   "execution_count": 80,
   "id": "marine-number",
   "metadata": {},
   "outputs": [],
   "source": [
    "mean = data.mean()\n",
    "std = data.std()"
   ]
  },
  {
   "cell_type": "code",
   "execution_count": 81,
   "id": "bigger-neutral",
   "metadata": {},
   "outputs": [],
   "source": [
    "def loss_plot(train_loss, val_loss, title = \"\"):\n",
    "#     x = x  = np.arange(0,100,1)\n",
    "    plt.plot(train_loss, label =\"train\")\n",
    "    plt.plot(val_loss, label = \"val\")\n",
    "    plt.xlabel(\"epochs\")\n",
    "    plt.ylabel(\"loss\")\n",
    "    plt.title(title)\n",
    "    plt.legend()\n",
    "    plt.show()"
   ]
  },
  {
   "cell_type": "code",
   "execution_count": 76,
   "id": "associate-belle",
   "metadata": {
    "scrolled": true
   },
   "outputs": [
    {
     "data": {
      "image/png": "[encoded data removed]",
      "text/plain": [
       "<Figure size 432x360 with 1 Axes>"
      ]
     },
     "metadata": {
      "needs_background": "light"
     },
     "output_type": "display_data"
    }
   ],
   "source": [
    "#Elbo loss plot\n",
    "loss_plot(elbo_loss_train, elbo_loss_eval, \"ELBO loss\")"
   ]
  },
  {
   "cell_type": "code",
   "execution_count": 77,
   "id": "productive-forth",
   "metadata": {},
   "outputs": [
    {
     "data": {
      "image/png": "[encoded data removed]",
      "text/plain": [
       "<Figure size 432x360 with 1 Axes>"
      ]
     },
     "metadata": {
      "needs_background": "light"
     },
     "output_type": "display_data"
    }
   ],
   "source": [
    "# mse loss plot\n",
    "loss_plot(mse_loss_train, mse_loss_eval, \"MSE loss\")"
   ]
  },
  {
   "cell_type": "code",
   "execution_count": 78,
   "id": "presidential-least",
   "metadata": {
    "scrolled": true
   },
   "outputs": [],
   "source": [
    "## RMSE for trainig and testing error\n",
    "\n",
    "yr_train, y_pred_train, _, losses, extra = validation(data_train, data_train)\n",
    "yr_test, y_pred_test, _,  losses, extra = validation(data_train, data_test)"
   ]
  },
  {
   "cell_type": "code",
   "execution_count": 79,
   "id": "boring-magic",
   "metadata": {},
   "outputs": [],
   "source": [
    "y_pred_train = y_pred_train[0].detach().cpu().numpy().flatten()\n",
    "y_pred_test = y_pred_test[0].detach().cpu().numpy().flatten()"
   ]
  },
  {
   "cell_type": "code",
   "execution_count": 82,
   "id": "rolled-liabilities",
   "metadata": {},
   "outputs": [
    {
     "name": "stdout",
     "output_type": "stream",
     "text": [
      "MAE for traing data =  0.053922238417574306\n",
      "RMSE for trainig data =  0.09029139766280682\n"
     ]
    }
   ],
   "source": [
    "MAE = mean_absolute_error(data_train.iloc[:,5], y_pred_train)\n",
    "RMSE = mean_squared_error(data_train.iloc[:,5], y_pred_train)\n",
    "\n",
    "print(\"MAE for traing data = \", MAE)\n",
    "print(\"RMSE for trainig data = \", RMSE**0.5)"
   ]
  },
  {
   "cell_type": "code",
   "execution_count": 83,
   "id": "radio-bankruptcy",
   "metadata": {},
   "outputs": [
    {
     "data": {
      "text/plain": [
       "0.17415684063139691"
      ]
     },
     "execution_count": 83,
     "metadata": {},
     "output_type": "execute_result"
    }
   ],
   "source": [
    "r2 = r2_score(data_train['N'], y_pred_train)\n",
    "r2"
   ]
  },
  {
   "cell_type": "code",
   "execution_count": 85,
   "id": "acute-locking",
   "metadata": {},
   "outputs": [
    {
     "data": {
      "text/plain": [
       "0.15830626805734882"
      ]
     },
     "execution_count": 85,
     "metadata": {},
     "output_type": "execute_result"
    }
   ],
   "source": [
    "r2 = r2_score(data_test['N'], y_pred_test)\n",
    "r2"
   ]
  },
  {
   "cell_type": "code",
   "execution_count": 87,
   "id": "organic-deposit",
   "metadata": {},
   "outputs": [
    {
     "name": "stdout",
     "output_type": "stream",
     "text": [
      "MAE for test data =  0.05395590002104137\n",
      "RMSE for test data =  0.09177640152569776\n"
     ]
    }
   ],
   "source": [
    "MAE = mean_absolute_error(data_test.iloc[:,5], y_pred_test)\n",
    "RMSE = mean_squared_error(data_test.iloc[:,5], y_pred_test)\n",
    "\n",
    "print(\"MAE for test data = \", MAE)\n",
    "print(\"RMSE for test data = \", RMSE**0.5)"
   ]
  },
  {
   "cell_type": "code",
   "execution_count": 89,
   "id": "conscious-request",
   "metadata": {},
   "outputs": [
    {
     "data": {
      "image/png": "[encoded data removed]",
      "text/plain": [
       "<Figure size 432x432 with 4 Axes>"
      ]
     },
     "metadata": {
      "needs_background": "light"
     },
     "output_type": "display_data"
    }
   ],
   "source": [
    "plt.figure(figsize=(6,6))\n",
    "plt.subplot(221)\n",
    "plt.plot(y_pred_train, data_train['N'], '.')\n",
    "plt.title('Training: pred vs obs')\n",
    "plt.xlabel('Predictions')\n",
    "plt.ylabel('True value')\n",
    "plt.plot([0, 1], [0, 1], 'g--')\n",
    "plt.ylim(0, 1)\n",
    "plt.xlim(0,1)\n",
    "plt.subplot(222)\n",
    "plt.hist(yr_train)\n",
    "plt.title('Hist training res\\nMedian absolute error: {:.1f}'.format(np.median(np.abs(yr_train))))\n",
    "plt.subplot(223)\n",
    "plt.plot(y_pred_test, data_test['N'], '.')\n",
    "plt.plot([0,1], [0,1], 'g--')\n",
    "plt.title('Test: pred vs obs')\n",
    "plt.xlabel('Predictions')\n",
    "plt.ylabel('True value')\n",
    "plt.ylim(0,1)\n",
    "plt.xlim(0,1)\n",
    "plt.subplot(224)\n",
    "plt.hist(yr_test)\n",
    "plt.title('Hist test res\\nMedian absolute error: {:.1f}'.format(np.median(np.abs(yr_test))))\n",
    "plt.tight_layout()"
   ]
  },
  {
   "cell_type": "markdown",
   "id": "productive-poetry",
   "metadata": {},
   "source": [
    "## ordinary kriging"
   ]
  },
  {
   "cell_type": "code",
   "execution_count": 36,
   "id": "freelance-export",
   "metadata": {},
   "outputs": [],
   "source": [
    "from pykrige.ok import OrdinaryKriging"
   ]
  },
  {
   "cell_type": "code",
   "execution_count": 93,
   "id": "legislative-surprise",
   "metadata": {},
   "outputs": [
    {
     "name": "stdout",
     "output_type": "stream",
     "text": [
      "Plotting Enabled\n",
      "\n",
      "Adjusting data for anisotropy...\n",
      "Initializing variogram model...\n",
      "Coordinates type: 'euclidean' \n",
      "\n",
      "Using 'spherical' Variogram Model\n",
      "Partial Sill: 0.012415274318568679\n",
      "Full Sill: 0.01575706661036989\n",
      "Range: 2.6004818332546926\n",
      "Nugget: 0.0033417922918012105 \n",
      "\n"
     ]
    },
    {
     "data": {
      "image/png": "[encoded data removed]",
      "text/plain": [
       "<Figure size 432x360 with 1 Axes>"
      ]
     },
     "metadata": {
      "needs_background": "light"
     },
     "output_type": "display_data"
    },
    {
     "name": "stdout",
     "output_type": "stream",
     "text": [
      "Calculating statistics on variogram model fit...\n"
     ]
    }
   ],
   "source": [
    "model = OrdinaryKriging(x=data_train['lon'], y=data_train['lat'], z=data_train['N'], verbose=True,\n",
    "                enable_plotting=True, nlags=30, weight=True, variogram_model='spherical')\n"
   ]
  },
  {
   "cell_type": "code",
   "execution_count": 94,
   "id": "color-navigator",
   "metadata": {
    "scrolled": true
   },
   "outputs": [
    {
     "name": "stdout",
     "output_type": "stream",
     "text": [
      "Executing Ordinary Kriging...\n",
      "\n"
     ]
    }
   ],
   "source": [
    "# data_train_ypred = model.execute(style='points',xpoints=data_train['Longitude'], ypoints=data_train['Latitude'] )[0].data\n",
    "# data_train_residual = data_train['Scaled N'] - data_train_ypred\n",
    "data_test_ypred = model.execute(style='points', xpoints=data_test['lon'], ypoints=data_test['lat'] )[0].data\n",
    "data_test_residual = data_test['N'] - data_test_ypred"
   ]
  },
  {
   "cell_type": "code",
   "execution_count": 95,
   "id": "imported-documentary",
   "metadata": {
    "scrolled": false
   },
   "outputs": [
    {
     "data": {
      "image/png": "[encoded data removed]",
      "text/plain": [
       "<Figure size 432x360 with 2 Axes>"
      ]
     },
     "metadata": {
      "needs_background": "light"
     },
     "output_type": "display_data"
    }
   ],
   "source": [
    "plt.subplot(121)\n",
    "plt.plot(data_test_ypred, data_test['N'], '.')\n",
    "plt.plot([0,1], [0,1], 'g--')\n",
    "plt.title('Test: pred vs obs--OK')\n",
    "plt.xlabel('Predictions')\n",
    "plt.ylabel('True value')\n",
    "plt.ylim(0,1)\n",
    "plt.xlim(0,1)\n",
    "plt.subplot(122)\n",
    "plt.hist(data_test_residual)\n",
    "plt.title('Hist test res\\nMedian absolute error: {:.1f}--OK'.format(np.median(np.abs(data_test_residual))))\n",
    "plt.show()"
   ]
  },
  {
   "cell_type": "code",
   "execution_count": 96,
   "id": "first-territory",
   "metadata": {
    "scrolled": true
   },
   "outputs": [
    {
     "data": {
      "text/plain": [
       "0.32424537802461706"
      ]
     },
     "execution_count": 96,
     "metadata": {},
     "output_type": "execute_result"
    }
   ],
   "source": [
    "r2_ok = r2_score(data_test['N'], data_test_ypred)\n",
    "r2_ok"
   ]
  },
  {
   "cell_type": "code",
   "execution_count": 97,
   "id": "bound-bathroom",
   "metadata": {},
   "outputs": [
    {
     "name": "stdout",
     "output_type": "stream",
     "text": [
      "MAE for test data for Ordinary kriging =  0.0498376815275379\n",
      "RMSE for testing data for Ordinary Kriging =  0.0822334462834148\n"
     ]
    }
   ],
   "source": [
    "MAE = mean_absolute_error(data_test['N'], data_test_ypred)\n",
    "RMSE = mean_squared_error(data_test['N'],data_test_ypred)\n",
    "\n",
    "print(\"MAE for test data for Ordinary kriging = \", MAE)\n",
    "print(\"RMSE for testing data for Ordinary Kriging = \", RMSE**0.5)"
   ]
  },
  {
   "cell_type": "markdown",
   "id": "caroline-penny",
   "metadata": {},
   "source": [
    "### Benchmark with KNN"
   ]
  },
  {
   "cell_type": "code",
   "execution_count": null,
   "id": "interim-fiction",
   "metadata": {},
   "outputs": [],
   "source": [
    "from sklearn.neighbors import KNeighborsRegressor\n",
    "from sklearn.model_selection import GridSearchCV"
   ]
  },
  {
   "cell_type": "code",
   "execution_count": null,
   "id": "forty-initial",
   "metadata": {},
   "outputs": [],
   "source": [
    "parameters = {'n_neighbors':np.arange(1,10)}\n",
    "nn_model = KNeighborsRegressor()\n",
    "nn_model_cv = GridSearchCV(nn_model, parameters)\n",
    "nn_model_cv = nn_model_cv.fit(data_train[['lon', 'lat']], data_train['N']) \n",
    "print('Optimal number of neighbours {}'.format(nn_model_cv.best_params_))\n",
    "nn_model = nn_model_cv.best_estimator_\n",
    "knn_prediction = nn_model.predict(data_test[['lon', 'lat']])\n",
    "knn_residual = data_test['N'] - knn_prediction"
   ]
  },
  {
   "cell_type": "code",
   "execution_count": null,
   "id": "designed-insight",
   "metadata": {},
   "outputs": [],
   "source": [
    "r2_knn = r2_score(data_test['N'], knn_prediction)\n",
    "r2_knn"
   ]
  },
  {
   "cell_type": "code",
   "execution_count": null,
   "id": "accredited-doctor",
   "metadata": {},
   "outputs": [],
   "source": [
    "MAE = mean_absolute_error(data_test['N'], knn_prediction)\n",
    "RMSE = mean_squared_error(data_test['N'],knn_prediction)\n",
    "\n",
    "print(\"MAE for test data for KNN = \", MAE)\n",
    "print(\"RMSE for testing data for KNN = \", RMSE**0.5)"
   ]
  },
  {
   "cell_type": "code",
   "execution_count": null,
   "id": "thermal-contamination",
   "metadata": {},
   "outputs": [],
   "source": [
    "plt.subplot(121)\n",
    "plt.plot(knn_prediction, data_test['N'], '.')\n",
    "plt.plot([0,1], [0,1], 'g--')\n",
    "plt.title('Test: pred vs obs--OK')\n",
    "plt.xlabel('Predictions')\n",
    "plt.ylabel('True value')\n",
    "plt.ylim(0,1)\n",
    "plt.xlim(0,1)\n",
    "plt.subplot(122)\n",
    "plt.hist(knn_residual)\n",
    "plt.title('Hist test res\\nMedian absolute error: {:.1f}--OK'.format(np.median(np.abs(knn_residual))))\n",
    "plt.show()"
   ]
  },
  {
   "cell_type": "code",
   "execution_count": null,
   "id": "center-providence",
   "metadata": {},
   "outputs": [],
   "source": [
    "import shapely\n",
    "from shapely.geometry import Point, MultiPoint"
   ]
  },
  {
   "cell_type": "code",
   "execution_count": null,
   "id": "short-midnight",
   "metadata": {},
   "outputs": [],
   "source": [
    "ls = []\n",
    "for i in range(len(data)):\n",
    "    ls.append(Point(data['Longitude'][i], data['Latitude'][i]))\n",
    "data['geometry'] = ls"
   ]
  },
  {
   "cell_type": "code",
   "execution_count": null,
   "id": "differential-latex",
   "metadata": {
    "scrolled": true
   },
   "outputs": [],
   "source": [
    "data.head()"
   ]
  },
  {
   "cell_type": "code",
   "execution_count": null,
   "id": "inner-travel",
   "metadata": {},
   "outputs": [],
   "source": [
    "import geopandas as gpd"
   ]
  },
  {
   "cell_type": "code",
   "execution_count": null,
   "id": "canadian-honor",
   "metadata": {},
   "outputs": [],
   "source": [
    "class PolygonPointSampler(object):\n",
    " \n",
    "    def __init__(self, polygon=''):\n",
    "        u\"\"\"\n",
    "        Initialize a new PolygonPointSampler object using the specified polygon\n",
    "        object (as allocated by Shapely). If no polygon is given a new empty\n",
    "        one is created and set as the base polygon.\n",
    "        \"\"\"\n",
    "        if polygon:\n",
    "            self.polygon = polygon\n",
    "        else:\n",
    "            self.polygon = Polygon()\n",
    "        self.samples = list()\n",
    "        self.sample_count = 0\n",
    "        self.prepared = False\n",
    " \n",
    "    def add_polygon(self, polygon):\n",
    "        u\"\"\"\n",
    "        Add another polygon entity to the base polygon by geometrically unifying\n",
    "        it with the current one.\n",
    "        \"\"\"\n",
    "        self.polygon = self.polygon.union(polygon)\n",
    "        self.prepared = False\n",
    "    \n",
    "    def get_spatial_df(self):\n",
    "        geo_df = pd.DataFrame(self.samples, columns=['geometry'])\n",
    "        geo_df = geo_df.set_geometry('geometry')\n",
    "        geo_df['x'] = geo_df['geometry'].apply(lambda x: x.coords[0][0])\n",
    "        geo_df['y'] = geo_df['geometry'].apply(lambda x: x.coords[0][1])\n",
    "        return geo_df\n",
    " \n",
    "    def print_samples(self):\n",
    "        u\"\"\"\n",
    "        Print all sample points using their WKT representation.\n",
    "        \"\"\"\n",
    "        for sample_pt in self.samples:\n",
    "            print(sample_pt)\n",
    " \n",
    "    def prepare_sampling(self):\n",
    "        u\"\"\"\n",
    "        Prepare the actual sampling procedure by splitting up the specified base\n",
    "        polygon (that may consist of multiple simple polygons) and appending its\n",
    "        compartments to a dedicated list.\n",
    "        \"\"\"\n",
    "        self.src = list()\n",
    "        if hasattr(self.polygon, 'geoms'):\n",
    "            for py in self.polygon:\n",
    "                self.src.append(py)\n",
    "        else:\n",
    "            self.src.append(self.polygon)\n",
    "        self.prepared = True\n",
    " \n",
    "    def perform_sampling(self):\n",
    "        u\"\"\"\n",
    "        Create a stub for the actual sampling procedure.\n",
    "        \"\"\"\n",
    "        raise NotImplementedError\n",
    "    \n",
    "class RegularGridSampler(PolygonPointSampler):\n",
    "    def __init__(self, polygon = '', x_interval = 100, y_interval = 100):\n",
    "        super(self.__class__, self).__init__(polygon)\n",
    "        self.x_interval = x_interval\n",
    "        self.y_interval = y_interval\n",
    "    \n",
    "    def perform_sampling(self):\n",
    "        u\"\"\"\n",
    "        Perform sampling by substituting the polygon with a regular grid of\n",
    "        sample points within it. The distance between the sample points is\n",
    "        given by x_interval and y_interval.\n",
    "        \"\"\"\n",
    "        if not self.prepared:\n",
    "            self.prepare_sampling()\n",
    "        ll = self.polygon.bounds[:2]\n",
    "        ur = self.polygon.bounds[2:]\n",
    "        low_x = int(ll[0]) / self.x_interval * self.x_interval\n",
    "        upp_x = int(ur[0]) / self.x_interval * self.x_interval + self.x_interval\n",
    "        low_y = int(ll[1]) / self.y_interval * self.y_interval\n",
    "        upp_y = int(ur[1]) / self.y_interval * self.y_interval + self.y_interval\n",
    "        \n",
    "        for x in floatrange(low_x, upp_x, self.x_interval):\n",
    "            for y in floatrange(low_y, upp_y, self.y_interval):\n",
    "                p = shapely.geometry.Point(x, y)\n",
    "                if p.within(self.polygon):\n",
    "                    self.samples.append(p)\n",
    "\n",
    "def floatrange(start, stop, step):\n",
    "    while start < stop:\n",
    "        yield start\n",
    "        start += step\n"
   ]
  },
  {
   "cell_type": "code",
   "execution_count": null,
   "id": "choice-serial",
   "metadata": {},
   "outputs": [],
   "source": [
    "mpt = MultiPoint(list(data.geometry))\n",
    "convex_hull = mpt.convex_hull.buffer(0.5)\n",
    "sampler = RegularGridSampler(convex_hull, x_interval=0.02, y_interval=0.02)\n",
    "sampler.perform_sampling()\n",
    "grid_points = sampler.get_spatial_df()\n",
    "plt.figure(figsize=(8,8))\n",
    "plt.plot(grid_points['x'], grid_points['y'], '.')\n",
    "plt.plot(data['Longitude'], data['Latitude'], 'r.')\n",
    "plt.title('Sampled grid')\n",
    "plt.show()"
   ]
  },
  {
   "cell_type": "code",
   "execution_count": null,
   "id": "proud-blind",
   "metadata": {},
   "outputs": [],
   "source": [
    "grid_points.head()"
   ]
  },
  {
   "cell_type": "code",
   "execution_count": null,
   "id": "outer-occupation",
   "metadata": {},
   "outputs": [],
   "source": []
  },
  {
   "cell_type": "code",
   "execution_count": null,
   "id": "domestic-treasure",
   "metadata": {},
   "outputs": [],
   "source": [
    "# plot_grid(grid_points, )"
   ]
  },
  {
   "cell_type": "code",
   "execution_count": null,
   "id": "utility-gathering",
   "metadata": {},
   "outputs": [],
   "source": [
    "data.head()"
   ]
  },
  {
   "cell_type": "code",
   "execution_count": null,
   "id": "loose-conservative",
   "metadata": {},
   "outputs": [],
   "source": [
    "grid_points.head()"
   ]
  },
  {
   "cell_type": "code",
   "execution_count": null,
   "id": "sought-incentive",
   "metadata": {
    "scrolled": true
   },
   "outputs": [],
   "source": [
    "mean"
   ]
  },
  {
   "cell_type": "code",
   "execution_count": null,
   "id": "happy-bosnia",
   "metadata": {
    "scrolled": false
   },
   "outputs": [],
   "source": [
    "def eval_grid(grid_points, data, model_np):\n",
    "    \n",
    "    cols = ['y', 'x']\n",
    "    \n",
    "    target_x = grid_points.copy()[cols]\n",
    "    target_x.rename(columns ={'y':'Latitude', 'x':'Longitude'}, inplace = True)\n",
    "#     print(target_x)\n",
    "    target_x-=mean#[['x', 'y']]\n",
    "    target_x/=std#[['x', 'y']]\n",
    "\n",
    "    df = data.drop(columns=['geometry']).copy()\n",
    "    df-=mean\n",
    "    df/=std\n",
    "    context_x = df.drop(columns=['Scaled N'])\n",
    "    context_y = df['Scaled N']\n",
    "    \n",
    "    print(target_x.shape)\n",
    "    print(target_x.mean(0))\n",
    "    print(target_x.std(0))\n",
    "    print(context_x.shape)\n",
    "\n",
    "    context_x = torch.from_numpy(context_x.values).float()[None, :]\n",
    "    context_y = torch.from_numpy(context_y.values).float()[None, :, None]\n",
    "    target_x = torch.from_numpy(target_x.values).float()[None, :]\n",
    "\n",
    "    # Make predictions\n",
    "    model_np.eval()\n",
    "    with torch.no_grad():\n",
    "\n",
    "        y_pred, losses, extra = model_np.forward(context_x, context_y, target_x)\n",
    "    return yr, y_pred, losses, extra \n",
    "\n",
    "# for col in allow_columns:\n",
    "#     if col not in grid_points:\n",
    "#         grid_points[col]=norm_mean[col]\n",
    "\n",
    "yr, y_pred, losses, extra  = eval_grid(grid_points, data, Regressor)\n"
   ]
  },
  {
   "cell_type": "code",
   "execution_count": null,
   "id": "identical-pocket",
   "metadata": {},
   "outputs": [],
   "source": [
    "stdv = extra.scale[0, :, 0] * 1\n",
    "loc = extra.loc[0, :, 0] * 1\n",
    "stdv *= std['Scaled N']\n",
    "loc *= std['Scaled N']\n",
    "loc += mean['Scaled N']"
   ]
  },
  {
   "cell_type": "code",
   "execution_count": null,
   "id": "sharp-picking",
   "metadata": {},
   "outputs": [],
   "source": [
    "# import geopandas"
   ]
  },
  {
   "cell_type": "code",
   "execution_count": null,
   "id": "after-audit",
   "metadata": {},
   "outputs": [],
   "source": [
    "def plot_grid(grid_points, prediction, title):\n",
    "#     gdf = grid_points.copy()\n",
    "#     grid_points = geopandas.GeoDataFrame(gdf, geometry=geopandas.points_from_xy(gdf.x, gdf.y))\n",
    "    grid_points['prediction'] = prediction\n",
    "    grid_points_gpd = grid_points.set_geometry('geometry')    \n",
    "    grid_points_gpd.crs = {'init':'epsg:28992'}\n",
    "    grid_points_gpd = grid_points_gpd.to_crs({'init': 'epsg:4326'})\n",
    "    grid_points_gpd['long'] = grid_points_gpd.geometry.apply(lambda x: x.x)\n",
    "    grid_points_gpd['lat'] = grid_points_gpd.geometry.apply(lambda x: x.y)\n",
    "    \n",
    "    grid_points_pivot = grid_points_gpd.pivot(values='prediction', columns='x', index='y').fillna(0)\n",
    "    grid_points_pivot = grid_points_pivot.loc[:,grid_points_pivot.columns.sort_values(ascending=True)]\n",
    "    grid_points_pivot = grid_points_pivot.loc[grid_points_pivot.index.sort_values(ascending=True),:]\n",
    "    plt.contourf(np.unique(grid_points_pivot.columns.values), np.unique(grid_points_pivot.index.values), \n",
    "                 grid_points_pivot.values,20,cmap='GnBu', vmin=0, vmax=1)\n",
    "    plt.scatter(data['Longitude'], data['Latitude'], c=data['Scaled N'], cmap='GnBu', vmin=0, vmax=1)\n",
    "    plt.plot(data['Longitude'], data['Latitude'], '.', ms=1)\n",
    "    plt.title(title)\n",
    "    plt.colorbar()\n",
    "    \n",
    "    return grid_points_pivot.values"
   ]
  },
  {
   "cell_type": "code",
   "execution_count": null,
   "id": "manual-vertex",
   "metadata": {},
   "outputs": [],
   "source": [
    "z_np =plot_grid(grid_points, (loc)*1.0, title=\"NP grid values \")"
   ]
  },
  {
   "cell_type": "code",
   "execution_count": null,
   "id": "metropolitan-phenomenon",
   "metadata": {},
   "outputs": [],
   "source": [
    "z = plot_grid(grid_points, (loc-0.5*stdv)*1.0, title=\"NP grid values (-0.5 std)\")"
   ]
  },
  {
   "cell_type": "code",
   "execution_count": null,
   "id": "closed-stick",
   "metadata": {},
   "outputs": [],
   "source": [
    "z= plot_grid(grid_points, (loc+0.5*stdv)*1.0, title=\"NP grid values (+.5 std)\")"
   ]
  },
  {
   "cell_type": "code",
   "execution_count": null,
   "id": "quick-valve",
   "metadata": {
    "scrolled": false
   },
   "outputs": [],
   "source": [
    "grid_points.head()"
   ]
  },
  {
   "cell_type": "code",
   "execution_count": null,
   "id": "comic-designation",
   "metadata": {},
   "outputs": [],
   "source": [
    "temp = grid_points.copy()\n",
    "temp.rename(columns ={'x':'Longitude', 'y':'Latitude', 'Prediction':'Scaled N'}, inplace = True)\n",
    "temp.head()"
   ]
  },
  {
   "cell_type": "code",
   "execution_count": null,
   "id": "efficient-broadway",
   "metadata": {
    "scrolled": true
   },
   "outputs": [],
   "source": [
    "temp.rename(columns ={'prediction':'Scaled N'}, inplace = True)"
   ]
  },
  {
   "cell_type": "code",
   "execution_count": null,
   "id": "processed-hybrid",
   "metadata": {},
   "outputs": [],
   "source": [
    "# temp.isna()"
   ]
  },
  {
   "cell_type": "code",
   "execution_count": null,
   "id": "meaning-nickname",
   "metadata": {},
   "outputs": [],
   "source": [
    "op = pd.concat([pd.DataFrame(temp),temp2] )"
   ]
  },
  {
   "cell_type": "code",
   "execution_count": null,
   "id": "ecological-enterprise",
   "metadata": {},
   "outputs": [],
   "source": [
    "op.drop(columns =['geometry'], inplace = True)\n",
    "op.drop_duplicates(['Longitude', 'Latitude'], inplace = True)\n",
    "op.head()"
   ]
  },
  {
   "cell_type": "code",
   "execution_count": null,
   "id": "direct-fruit",
   "metadata": {},
   "outputs": [],
   "source": [
    "op.to_csv(\"interpolated.csv\")"
   ]
  }
 ],
 "metadata": {
  "kernelspec": {
   "display_name": "Python 3 (ipykernel)",
   "language": "python",
   "name": "python3"
  },
  "language_info": {
   "codemirror_mode": {
    "name": "ipython",
    "version": 3
   },
   "file_extension": ".py",
   "mimetype": "text/x-python",
   "name": "python",
   "nbconvert_exporter": "python",
   "pygments_lexer": "ipython3",
   "version": "3.9.6"
  }
 },
 "nbformat": 4,
 "nbformat_minor": 5
}
